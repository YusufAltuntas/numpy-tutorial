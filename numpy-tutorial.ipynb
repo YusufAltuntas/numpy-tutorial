{
 "cells": [
  {
   "cell_type": "markdown",
   "metadata": {},
   "source": [
    "## **1) Temel Bilgiler:**\n",
    "\n",
    "### [**1.1 Numpy Nedir?**](#11-numpy-nedir)\n",
    "   - Numpy'nin temel amacı\n",
    "   - Neden numpy kullanmalıyız?\n",
    "   - Numpy'nin Özellikleri\n",
    "   - Python listeleri ile numpy dizileri arasındaki farklar\n",
    "\n",
    "### [**1.2 Numpy Dizileri (Arrays)**](#12-numpy-dizileri-arrays)\n",
    "   - [Numpy Arrayleri Nedir?](#121-numpy-array-nedir)\n",
    "   - [Array Oluşturma](#122-array-oluşturma)\n",
    "      - [np.zeros(), np.ones(), np.empty() vs.](#1221-npzeros-npones-npempty)\n",
    "      - [np.arange(), np.linspace()](#1222-nparange-nplinspace)\n",
    "      - [Random sayı üretimi: np.random.rand(), np.random.randn(), vs.](#1223-random-sayı-üretimi-nprandomrand-nprandomrandn)\n",
    "   - [Array Özellikleri: Şekil, Boyut](#123-array-özellikleri-şekil-boyut)\n",
    "   - [Dizilerin Veri Tipleri](#124-dizilerin-veri-tipleri)\n",
    "   - [Dizilerin İndekslenmesi ve Dilimlenmesi](#125-dizilerin-i̇ndekslenmesi-ve-dilimlenmesi)\n",
    "\n",
    "--- \n",
    "\n",
    "\n",
    "## **2) Temel İşlemler:**\n",
    "\n",
    "### [**2.1 Dizi İşlemleri:**](#21-dizi-i̇şlemleri)\n",
    "   - [Dizi Elemanlarına Erişim](#211-dizi-elemanlarına-erişim)\n",
    "      - [Tek Bir Elemana Erişim](#2111-tek-bir-elemana-erişim)\n",
    "      - [Dilimleme İle Erişim](#2112-dilimleme-i̇le-erişim)\n",
    "      - [Koşullu İndeksleme](#2113-koşullu-i̇ndeksleme)\n",
    "      - [Çok Boyutlu Dizilerde Erişim](#2114-çok-boyutlu-dizilerde-erişim)\n",
    "\n",
    "   - [Aritmetik İşlemler](#212-aritmetik-i̇şlemler)\n",
    "      - [Temel Aritmetik İşlemler](#2121-temel-aritmetik-i̇şlemler)\n",
    "      - [Üstel ve Logaritmik İşlemler](#2122-üstel-ve-logaritmik-i̇şlemler)\n",
    "      - [İleri Düzey İşlemler](#2123-i̇leri-düzey-i̇şlemler)\n",
    "\n",
    "   - [Rastgele Sayılar Üretme](#213-rastgele-sayılar-üretme)\n",
    "      - [np.random.rand()](#2131-nprandomrand)\n",
    "      - [seed() Fonksiyonu](#2132-seed-fonksiyonu)\n",
    "      - [np.random.randint()](#2133-nprandomrandint)\n",
    "      - [np.random.randn()](#2134-nprandomrandn)\n",
    "      - [np.random.choice()](#2135-nprandomchoice)\n",
    "\n",
    "### [**2.2 Array Şekil Değiştirme**](#22-array-şekil-değiştirme)\n",
    "   - [Dizinin Şeklini Değiştirme](#221-dizinin-şeklini-değiştirme)\n",
    "      - [`reshape()` Fonksiyonu](#2211-reshape-fonksiyonu)\n",
    "      - [`resize()` Fonksiyonu](#2212-resize-fonksiyonu)\n",
    "      - [`reshape()` ve `-1` Kullanımı](#2213-reshape-ve--1-kullanımı)\n",
    "      - [Düzleştirme: flatten() Fonksiyonu](#2214-düzleştirme-flatten-fonksiyonu)\n",
    "      - [`ravel()` Fonksiyonu](#2215-ravel-fonksiyonu)\n",
    "\n",
    "   - [Dizileri Birleştirme ve Ayırma](#222-dizileri-birleştirme-ve-ayırma)\n",
    "      - [`concatenate()` Fonksiyonu](#2221-concatenate-fonksiyonu)\n",
    "      - [`stack()` Fonksiyonu](#2222-stack-fonksiyonu)\n",
    "      - [`vstack()` ve `hstack()` Fonksiyonları](#2223-vstack-ve-hstack-fonksiyonları)\n",
    "      - [`split()` Fonksiyonu](#2224-split-fonksiyonu)\n",
    "      - [`vsplit()` ve `hsplit()` Fonksiyonları](#2225-vsplit-ve-hsplit-fonksiyonları)\n",
    "\n",
    "\n",
    "### [**2.3 Veri Tipi Dönüşümleri**](#23-veri-tipi-dönüşümleri)\n",
    "   - [astype() Fonksiyonu](#231-astype-fonksiyonu)\n",
    "   - [asarray() Fonksiyonu](#232-asarray-fonksiyonu)\n",
    "   - [Veri Tipi Sınırlamaları ve İşlem Önerileri](#233-veri-tipi-sınırlamaları-ve-i̇şlem-önerileri)\n",
    "\n",
    "### [**2.4 Fancy Indexing:**](#24-fancy-indexing)\n",
    "   - [Tek Boyutlu Fancy Indexing](#241-tek-boyutlu-fancy-indexing)\n",
    "   - [İki Boyutlu Fancy Indexing](#242-i̇ki-boyutlu-fancy-indexing)\n",
    "   - [Maskelerle Indexleme](#243-maskelerle-indexleme)\n",
    "      - [Boolean Maskelerle Indexleme](#2431-boolean-maskelerle-indexleme)\n",
    "      - [Koşul İfadeleri ile Indexleme](#2432-koşul-i̇fadeleri-ile-indexleme)\n",
    "\n",
    "### [**2.5 Array Operasyonları:**](#25-array-operasyonları)\n",
    "   - [Broadcasting (Yayılma)](#251-broadcasting-yayılma)\n",
    "      - [Yayılma Kuralları](#2511-broadcasting-kuralları)\n",
    "      - [Örneklerle Yayılma Kullanımı](#2512-örneklerle-yayılma-kullanımı)\n",
    "   - [Dizi Yineleme (Repeating)](#252-dizi-yineleme-repeating)\n",
    "   - [İç Çarpım (dot product)](#253-i̇ç-çarpım-dot-product)\n",
    "   - [İşlem fonksiyonları (np.sum(), np.prod(), np.mean() vs.)](#254-i̇şlem-fonksiyonları-npsum-npprod-npmean-vs)\n",
    "\n",
    "---\n",
    "\n",
    "## [**3. Lineer Cebir İşlemleri**](#3-lineer-cebir-i̇şlemleri)\n",
    "   - [Matris çarpımı](#31-matris-çarpımı)\n",
    "   - [Determinant ve ters matris hesaplama](#32-determinant-ve-ters-matris-hesaplama)\n",
    "\n",
    "\n",
    "## [**4. Universal Functions (ufuncs):**](#4-universal-functions-ufuncs)\n",
    "\n",
    "---"
   ]
  },
  {
   "cell_type": "markdown",
   "metadata": {},
   "source": [
    "# **Temel Bilgiler**"
   ]
  },
  {
   "cell_type": "markdown",
   "metadata": {},
   "source": [
    "## **1.1 Numpy Nedir?**\n",
    "\n",
    "Numpy, Python programlama dili için temel bir kütüphanedir ve bilimsel hesaplama ve veri işleme için kullanılır. Numpy'nin temel amacı, Python'da veri işlemesi ve hesaplamaları yapmak için hızlı ve etkili bir şekilde çalışabilecek yüksek performanslı çok boyutlu diziler ve matematiksel işlevler sunmaktır.\n",
    "\n",
    "### **Neden Numpy Kullanmalıyız?**\n",
    "\n",
    "Numpy'nin kullanılmasının bazı avantajları şunlardır:\n",
    "- **Hızlı ve Verimli İşlemler:** Numpy, C ve Fortran dilinde yazılmış alt seviye optimizasyonlar kullanır, bu da Python'da yavaş olan bazı işlemleri hızlandırır.\n",
    "- **Diziler Üzerinde Hızlı İşlemler:** Numpy dizileri, Python listelerine göre daha hızlı ve verimli işlemler yapmak için optimize edilmiştir.\n",
    "- **Geniş Fonksiyonellik:** Numpy, matematiksel işlevler, rastgele sayı üretimi, lineer cebir işlemleri gibi birçok faydalı fonksiyon ve işlev içerir.\n",
    "- **Veri Analizi ve Bilimsel Hesaplama:** Numpy, veri analizi, bilimsel hesaplama, simülasyonlar ve modeller gibi çeşitli alanlarda yaygın olarak kullanılır.\n",
    "\n",
    "### **Numpy'nin Özellikleri**\n",
    "\n",
    "Numpy'nin bazı temel özellikleri şunlardır:\n",
    "- **Çok Boyutlu Diziler (Arrays):** Numpy, çok boyutlu dizileri destekler. Bu, tek boyutlu vektörlerden çok boyutlu matrislere kadar geniş bir veri yelpazesini kapsar.\n",
    "- **Matematiksel İşlevler:** Numpy, temel matematiksel işlevler (sin, cos, exp vb.) ve işlemler (toplama, çıkarma, çarpma, bölme vb.) için fonksiyonlar içerir.\n",
    "- **Yüksek Performanslı Hesaplama:** Numpy, vektörize edilmiş işlemler ve alt seviye optimizasyonlar kullanarak yüksek performanslı hesaplamalar sağlar.\n",
    "- **Geniş Kullanım Alanı:** Numpy, veri analizi, bilimsel hesaplama, makine öğrenmesi, görüntü işleme gibi birçok alanda kullanılır.\n",
    "\n",
    "### **Python Listeleri ile Numpy Dizileri Arasındaki Farklar**\n",
    "\n",
    "Numpy dizileri ile Python listeleri arasındaki temel farklar şunlardır:\n",
    "1. **Performans:** Numpy dizileri, Python listelerine göre daha hızlı ve verimli işlemler yapar. Bu, özellikle büyük veri kümeleri üzerinde çalışırken belirgin hale gelir.\n",
    "2. **Veri Tipi ve Boyut Kontrolü:** Numpy dizileri, elemanları aynı veri tipinde tutar ve sabit bir boyuta sahiptir. Bu, veri kümeleri üzerinde homojen işlemler yapmayı kolaylaştırır.\n",
    "3. **Matematiksel İşlemler:** Numpy dizileri, matematiksel işlemler için optimize edilmiş vektörize edilmiş işlemleri destekler. Bu, Python listelerinden daha hızlı ve daha kolay matematiksel işlemler yapmayı sağlar.\n",
    "4. **Bellek Yönetimi:** Numpy dizileri, veriyi daha etkin bir şekilde bellekte depolar ve işler. Bu, bellek kullanımını optimize eder ve verimliliği artırır.\n",
    "\n",
    "\n",
    "| Numpy Dizileri                             | Python Listeleri                           |\n",
    "|--------------------------------------------|--------------------------------------------|\n",
    "| Numpy dizileri aynı türde verileri içerir. | Python listeleri farklı türde verileri içerebilir. |\n",
    "| Numpy dizileri boyutları sabittir.        | Python listeleri dinamik boyutlara sahiptir. |\n",
    "| Numpy dizilerinde vektörleştirilmiş işlemler yapılabilir, bu da performansı artırır. | Python listelerinde döngüler kullanılarak işlemler yapılır, bu performansı düşürebilir. |\n",
    "\n",
    "---"
   ]
  },
  {
   "cell_type": "markdown",
   "metadata": {},
   "source": [
    "## **1.2 Numpy Dizileri (Arrays)**\n",
    "\n",
    "Numpy, Python'da bilimsel hesaplamalar yapmak için kullanılan temel bir kütüphanedir. En önemli özelliklerinden biri, çok boyutlu (çok boyutlu) dizilerle çalışabilme yeteneğidir. Bu çok boyutlu dizilere \"Numpy array\" denir.\n",
    "\n",
    "---\n",
    "\n",
    "### **1.2.1 Numpy Array Nedir?**\n",
    "\n",
    "Numpy array, homojen veri tiplerinden oluşan bir grid yapısıdır. Bir numpy array, aynı türde veriler içerir ve boyutları sabittir. Numpy array'leri, Python listelerine benzerdir ancak daha etkin ve hızlıdır.\n",
    "\n",
    "#### **Numpy Array Özellikleri**\n",
    "\n",
    "1. **Homojen Veri Tipi:**\n",
    "   - Numpy array'leri, aynı türde verileri içerir. Bu, veri işleme ve matematiksel operasyonlar için çok önemlidir çünkü her eleman aynı veri türüne sahiptir.\n",
    "\n",
    "2. **Sabit Boyut:**\n",
    "   - Numpy array'lerinin boyutları oluşturulduktan sonra değiştirilemez. Bu, bellek kullanımını optimize eder ve hızlı işlemler sağlar.\n",
    "\n",
    "3. **Hızlı ve Verimli:**\n",
    "   - Numpy, C altında derlenmiş bir kütüphanedir, bu da işlemlerin hızlı ve verimli bir şekilde yapılmasını sağlar. Büyük veri kümeleriyle çalışırken performans avantajı sağlar.\n",
    "\n",
    "4. **Çok Boyutlu Yetenek:**\n",
    "   - Numpy array'leri, tek boyutlu, iki boyutlu ve daha fazla boyutta olabilir. Bu, matematiksel ve bilimsel hesaplamalarda çok yönlü kullanım sağlar.\n",
    "\n",
    "---\n",
    "\n",
    "#### **Python Listeleri ile Numpy Arrayleri Arasındaki Farklar**\n",
    "\n",
    "Numpy array'leri ve Python listeleri arasındaki ana farklar şunlardır:\n",
    "\n",
    "- **Performans:**\n",
    "   - Numpy array'leri, vektörleştirilmiş operasyonlar ve optimize edilmiş bellek kullanımı sayesinde Python listelerinden daha hızlıdır.\n",
    "   \n",
    "- **Veri Tipi Kontrolü:**\n",
    "   - Numpy array'leri homojen veri tipleri içerirken, Python listeleri heterojen veri tipleri içerebilir.\n",
    "   \n",
    "- **Boyut Değiştirme:**\n",
    "   - Numpy array'lerinin boyutları oluşturulduktan sonra değiştirilemezken, Python listelerinin boyutu dinamik olarak değiştirilebilir.\n",
    "\n",
    "- **Matematiksel İşlemler:**\n",
    "   - Numpy array'leri, matematiksel işlemleri vektörleştirme yeteneği ile desteklerken, Python listeleri bunu doğrudan desteklemez.\n",
    "\n",
    "Bu farklar, Numpy'nin Python listelerine tercih edilmesinin temel nedenlerindendir. Numpy array'leri, bilimsel hesaplamalar, veri analizi ve makine öğrenimi gibi uygulamalarda yaygın olarak kullanılmaktadır."
   ]
  },
  {
   "cell_type": "markdown",
   "metadata": {},
   "source": [
    "\n",
    "---\n",
    "### **1.2.2 Array Oluşturma**\n",
    "\n",
    "Numpy kütüphanesi, çeşitli yöntemlerle array oluşturmayı sağlar. Bu yöntemler, farklı ihtiyaçlara göre farklı türde arrayler oluşturmanıza olanak tanır.\n",
    "\n",
    "#### **1.2.2.1 `np.zeros()`, `np.ones()`, `np.empty()`**\n",
    "\n",
    "Bu fonksiyonlar, belirli bir şekilde sıfırlar, birler veya boş değerler içeren arrayler oluşturur. Temel kullanımı aşağıdaki gibidir:\n",
    "\n",
    "- `np.zeros(shape)`: Belirtilen boyutta sıfırlardan oluşan bir array oluşturur.\n",
    "- `np.ones(shape)`: Belirtilen boyutta birlerden oluşan bir array oluşturur.\n",
    "- `np.empty(shape)`: Belirtilen boyutta boş değerler içeren bir array oluşturur. Bu array'in değerleri, bellekteki mevcut duruma bağlı olarak değişkenlik gösterebilir.\n",
    "---"
   ]
  },
  {
   "cell_type": "code",
   "execution_count": 11,
   "metadata": {},
   "outputs": [
    {
     "name": "stdout",
     "output_type": "stream",
     "text": [
      "[[0. 0. 0.]\n",
      " [0. 0. 0.]] \n",
      "\n",
      "[[1. 1.]\n",
      " [1. 1.]\n",
      " [1. 1.]] \n",
      "\n",
      "[[2.  1. ]\n",
      " [1.5 0.5]]\n"
     ]
    }
   ],
   "source": [
    "import numpy as np\n",
    "\n",
    "zeros_array = np.zeros((2, 3))  # 2x3 boyutunda sıfırlardan oluşan array\n",
    "print(zeros_array, \"\\n\")\n",
    "# Çıktı:\n",
    "# [[0. 0. 0.]\n",
    "#  [0. 0. 0.]]\n",
    "\n",
    "ones_array = np.ones((3, 2))  # 3x2 boyutunda birlerden oluşan array\n",
    "print(ones_array,\"\\n\")\n",
    "# Çıktı:\n",
    "# [[1. 1.]\n",
    "#  [1. 1.]\n",
    "#  [1. 1.]]\n",
    "\n",
    "empty_array = np.empty((2, 2))  # 2x2 boyutunda boş değerler içeren array\n",
    "print(empty_array)\n",
    "# Çıktı:\n",
    "# [[4.67296746e-307 1.69121096e-306]\n",
    "#  [8.34441742e-308 1.24611470e-306]]"
   ]
  },
  {
   "cell_type": "markdown",
   "metadata": {},
   "source": [
    "\n",
    "---\n",
    "\n",
    "#### **1.2.2.2 `np.arange()`, `np.linspace()`**\n",
    "\n",
    "Bu fonksiyonlar, belirli bir aralıktaki sayılarla dolu arrayler oluşturur.\n",
    "\n",
    "- `np.arange(start, stop, step)`: Belirli bir aralıktaki sayıları belirtilen adımlarla içeren bir array oluşturur.\n",
    "- `np.linspace(start, stop, num)`: Belirli bir aralıktaki belirli sayıda eşit aralıklı sayıları içeren bir array oluşturur.\n",
    "\n",
    "---"
   ]
  },
  {
   "cell_type": "code",
   "execution_count": 12,
   "metadata": {},
   "outputs": [
    {
     "name": "stdout",
     "output_type": "stream",
     "text": [
      "[0 2 4 6 8] \n",
      "\n",
      "[ 0.   2.5  5.   7.5 10. ]\n"
     ]
    }
   ],
   "source": [
    "import numpy as np\n",
    "\n",
    "range_array = np.arange(0, 10, 2)  # 0'dan 10'a kadar 2'şer artan sayılar\n",
    "print(range_array, \"\\n\")\n",
    "# Çıktı: [0 2 4 6 8]\n",
    "\n",
    "linspace_array = np.linspace(0, 10, 5)  # 0'dan 10'a kadar 5 eşit aralıklı sayılar\n",
    "print(linspace_array)\n",
    "# Çıktı: [ 0.   2.5  5.   7.5 10. ]"
   ]
  },
  {
   "cell_type": "markdown",
   "metadata": {},
   "source": [
    "\n",
    "---\n",
    "#### **1.2.2.3 Random Sayı Üretimi: `np.random.rand()`, `np.random.randn()`**\n",
    "\n",
    "Bu fonksiyonlar, belirli bir boyutta rastgele sayılar içeren arrayler oluşturur.\n",
    "\n",
    "- `np.random.rand(d0, d1, ..., dn)`: 0 ile 1 arasında uniform dağılımlı rastgele sayılar içeren bir array oluşturur.\n",
    "- `np.random.randn(d0, d1, ..., dn)`: Ortalaması 0 ve standart sapması 1 olan normal dağılımlı rastgele sayılar içeren bir array oluşturur.\n",
    "\n",
    "---"
   ]
  },
  {
   "cell_type": "code",
   "execution_count": 13,
   "metadata": {},
   "outputs": [
    {
     "name": "stdout",
     "output_type": "stream",
     "text": [
      "[[0.66083539 0.07326587]\n",
      " [0.11192756 0.91149177]] \n",
      "\n",
      "[[ 0.14298326  1.20668909]\n",
      " [-0.69041712  0.67672093]]\n"
     ]
    }
   ],
   "source": [
    "import numpy as np\n",
    "\n",
    "random_array_uniform = np.random.rand(2, 2)  # 2x2 boyutunda uniform dağılımlı rastgele sayılar\n",
    "print(random_array_uniform,\"\\n\")\n",
    "\n",
    "\n",
    "random_array_normal = np.random.randn(2, 2)  # 2x2 boyutunda normal dağılımlı rastgele sayılar\n",
    "print(random_array_normal)"
   ]
  },
  {
   "cell_type": "markdown",
   "metadata": {},
   "source": [
    "\n",
    "---\n",
    "### **1.2.3 Array Özellikleri: Şekil, Boyut**\n",
    "\n",
    "Numpy array'lerinin şekli ve boyutu, array'in yapısını ve içerdiği veri miktarını tanımlar. Bu özellikler, array üzerinde işlem yaparken ve verileri manipüle ederken oldukça önemlidir.\n",
    "\n",
    "---\n",
    "#### **Array Şekli (Shape)**\n",
    "\n",
    "Bir array'in şekli, her boyuttaki eleman sayısını içeren bir tuple'dır. Örneğin, bir 2x3 boyutundaki array'in şekli `(2, 3)` şeklinde ifade edilir.\n",
    "\n",
    "---\n",
    "#### **Array Boyutu (Dimension)**\n",
    "\n",
    "Bir array'in boyutu, içerdiği boyut sayısını ifade eder. Örneğin, 2x3 boyutundaki bir array 2 boyutlu (2D) olarak kabul edilir.\n",
    "\n",
    "---"
   ]
  },
  {
   "cell_type": "code",
   "execution_count": 14,
   "metadata": {},
   "outputs": [
    {
     "name": "stdout",
     "output_type": "stream",
     "text": [
      "Array Şekli (Shape): (2, 3)\n",
      "Array Boyutu (Dimension): 2\n"
     ]
    }
   ],
   "source": [
    "import numpy as np\n",
    "\n",
    "# 2x3 boyutunda bir array oluşturalım\n",
    "my_array = np.array([[1, 2, 3],\n",
    "                    [4, 5, 6]])\n",
    "\n",
    "print(\"Array Şekli (Shape):\", my_array.shape)  # Çıktı: (2, 3)\n",
    "print(\"Array Boyutu (Dimension):\", my_array.ndim)  # Çıktı: 2"
   ]
  },
  {
   "cell_type": "markdown",
   "metadata": {},
   "source": [
    "#### **Reshaping (Yeniden Şekillendirme)**\n",
    "\n",
    "Numpy, `reshape()` fonksiyonu aracılığıyla mevcut bir array'in şeklini değiştirmenize olanak tanır. Bu işlem, array'in boyutunu değiştirmez, sadece şeklini yeniden düzenler."
   ]
  },
  {
   "cell_type": "code",
   "execution_count": 15,
   "metadata": {},
   "outputs": [
    {
     "name": "stdout",
     "output_type": "stream",
     "text": [
      "Yeniden Şekillendirilmiş Array:\n",
      "[[1 2]\n",
      " [3 4]\n",
      " [5 6]]\n"
     ]
    }
   ],
   "source": [
    "import numpy as np\n",
    "\n",
    "# 2x3 boyutunda bir array oluşturalım\n",
    "my_array = np.array([[1, 2, 3],\n",
    "                    [4, 5, 6]])\n",
    "\n",
    "# Array'in şeklini (2, 3)ten (3, 2)'ye çevirelim\n",
    "reshaped_array = my_array.reshape((3, 2))\n",
    "\n",
    "print(\"Yeniden Şekillendirilmiş Array:\")\n",
    "print(reshaped_array)"
   ]
  },
  {
   "cell_type": "markdown",
   "metadata": {},
   "source": [
    "* Yukarıdaki örnekte, `reshape()` fonksiyonu kullanılarak `my_array` adlı array'in şekli (2, 3)'ten (3, 2)'ye çevrildi."
   ]
  },
  {
   "cell_type": "markdown",
   "metadata": {},
   "source": [
    "#### **Array'in Boyutunu Değiştirme**\n",
    "\n",
    "Numpy, `reshape()` fonksiyonu dışında array'in boyutunu değiştiren `resize()` fonksiyonunu da sağlar. Bu fonksiyon, mevcut array'i değiştirir ve istenen boyuta uyacak şekilde genişletir veya kısaltır."
   ]
  },
  {
   "cell_type": "code",
   "execution_count": 16,
   "metadata": {},
   "outputs": [
    {
     "name": "stdout",
     "output_type": "stream",
     "text": [
      "Yeniden Boyutlandırılmış Array:\n",
      "[[1 2 3 4]\n",
      " [5 6 1 2]\n",
      " [3 4 5 6]]\n"
     ]
    }
   ],
   "source": [
    "import numpy as np\n",
    "\n",
    "# 2x3 boyutunda bir array oluşturalım\n",
    "my_array = np.array([[1, 2, 3],\n",
    "                    [4, 5, 6]])\n",
    "\n",
    "# Array'in boyutunu (3, 4)'e değiştirelim\n",
    "resized_array = np.resize(my_array, (3, 4))\n",
    "\n",
    "print(\"Yeniden Boyutlandırılmış Array:\")\n",
    "print(resized_array)"
   ]
  },
  {
   "cell_type": "markdown",
   "metadata": {},
   "source": [
    "* Yukarıdaki örnekte, `resize()` fonksiyonu kullanılarak `my_array` adlı array'in boyutu (3, 4)'e değiştirildi."
   ]
  },
  {
   "cell_type": "markdown",
   "metadata": {},
   "source": [
    "### **1.2.4 Dizilerin Veri Tipleri**\n",
    "\n",
    "Numpy dizileri, homojen veri tipleriyle (aynı tipte verileri içerir) çalışır. Bu, her bir öğenin aynı veri tipine sahip olması gerektiği anlamına gelir. Numpy, farklı türlerde veri tiplerini destekler ve her bir veri tipi farklı boyut ve işlemlere izin verir.\n",
    "\n",
    "#### **Numpy Veri Tipleri:**\n",
    "\n",
    "1. **int**: Tam sayılar.\n",
    "2. **float**: Ondalık sayılar.\n",
    "3. **complex**: Karmaşık sayılar.\n",
    "4. **bool**: Mantıksal (Boolean) değerler.\n",
    "5. **string**: Karakter dizileri.\n",
    "6. **object**: Python nesneleri için genel veri tipi.\n",
    "7. **datetime**: Tarih ve saat veri tipleri.\n",
    "\n",
    "#### **Veri Tipi Belirtme**\n",
    "\n",
    "Numpy, bir dizi oluştururken veya bir diziye dönüştürürken veri tipini belirlemenize izin verir. Bu, bellek kullanımını optimize etmenize ve beklenmeyen sonuçlardan kaçınmanıza olanak tanır."
   ]
  },
  {
   "cell_type": "code",
   "execution_count": 17,
   "metadata": {},
   "outputs": [
    {
     "name": "stdout",
     "output_type": "stream",
     "text": [
      "Float tipinde dizi: [1. 2. 3.]\n",
      "Dönüştürülen dizi: [1. 2. 3.]\n"
     ]
    }
   ],
   "source": [
    "import numpy as np\n",
    "\n",
    "# Diziyi oluştururken veri tipini belirleme\n",
    "my_array = np.array([1, 2, 3], dtype=float)\n",
    "print(\"Float tipinde dizi:\", my_array)\n",
    "\n",
    "# Dönüştürme işlemi sırasında veri tipini belirleme\n",
    "converted_array = np.array([1, 2, 3], dtype=float)\n",
    "print(\"Dönüştürülen dizi:\", converted_array)"
   ]
  },
  {
   "cell_type": "markdown",
   "metadata": {},
   "source": []
  },
  {
   "cell_type": "markdown",
   "metadata": {},
   "source": [
    "### **1.2.5 Dizilerin İndekslenmesi ve Dilimlenmesi**\n",
    "\n",
    "Numpy dizileri, Python listelerine benzer şekilde indekslenir ve dilimlenir. Bu işlemler, belirli bir elemana erişmek veya belirli bir alt küme oluşturmak için kullanılır. Numpy, çok boyutlu dizilerle çalışırken bu işlemleri daha da güçlendirir.\n",
    "\n",
    "#### **1.2.5.1 İndeksleme**\n",
    "\n",
    "Numpy dizileri, 0'dan başlayarak indekslenir. Bir dizinin belirli bir elemanına erişmek için indeks numarasını kullanırız."
   ]
  },
  {
   "cell_type": "code",
   "execution_count": 18,
   "metadata": {},
   "outputs": [
    {
     "name": "stdout",
     "output_type": "stream",
     "text": [
      "1\n",
      "3\n"
     ]
    }
   ],
   "source": [
    "import numpy as np\n",
    "\n",
    "# 1D dizinin oluşturulması\n",
    "arr = np.array([1, 2, 3, 4, 5])\n",
    "\n",
    "# İndeksleme\n",
    "print(arr[0])  # Çıktı: 1\n",
    "print(arr[2])  # Çıktı: 3"
   ]
  },
  {
   "cell_type": "markdown",
   "metadata": {},
   "source": [
    "#### **1.2.5.2 Dilimleme (Slicing)**\n",
    "\n",
    "Dilimleme, bir dizinin belirli bir alt kümesini seçmek için kullanılır. Numpy dizilerinde dilimleme, Python listelerinden çok benzer şekilde çalışır. `[start:stop:step]` formülü kullanılır. Herhangi bir parametre belirtilmezse, varsayılan değerler kullanılır (başlangıç: 0, durdurma: son, adım: 1)."
   ]
  },
  {
   "cell_type": "code",
   "execution_count": 19,
   "metadata": {},
   "outputs": [
    {
     "name": "stdout",
     "output_type": "stream",
     "text": [
      "[2 3 4]\n",
      "[1 2 3]\n",
      "[1 3 5]\n"
     ]
    }
   ],
   "source": [
    "import numpy as np\n",
    "\n",
    "# 1D dizinin oluşturulması\n",
    "arr = np.array([1, 2, 3, 4, 5])\n",
    "\n",
    "# Dilimleme\n",
    "print(arr[1:4])  # Çıktı: [2 3 4]\n",
    "print(arr[:3])   # Çıktı: [1 2 3]\n",
    "print(arr[::2])  # Çıktı: [1 3 5]"
   ]
  },
  {
   "cell_type": "markdown",
   "metadata": {},
   "source": [
    "#### **1.2.5.3 Çok Boyutlu Dizilerde İndeksleme ve Dilimleme**\n",
    "\n",
    "Çok boyutlu dizilerde, her boyuta ait bir indeks veya dilimleme kullanabiliriz. Her boyut için indeksleme ve dilimleme işlemleri virgülle ayrılır."
   ]
  },
  {
   "cell_type": "code",
   "execution_count": 20,
   "metadata": {},
   "outputs": [
    {
     "name": "stdout",
     "output_type": "stream",
     "text": [
      "1\n",
      "6\n",
      "[[2 3]\n",
      " [5 6]]\n"
     ]
    }
   ],
   "source": [
    "import numpy as np\n",
    "\n",
    "# 2D dizinin oluşturulması\n",
    "arr = np.array([[1, 2, 3],\n",
    "                [4, 5, 6],\n",
    "                [7, 8, 9]])\n",
    "\n",
    "# İndeksleme ve Dilimleme\n",
    "print(arr[0, 0])     # Çıktı: 1 (1. satırın 1. sütunu)\n",
    "print(arr[1, 2])     # Çıktı: 6 (2. satırın 3. sütunu)\n",
    "print(arr[:2, 1:])   # Çıktı: [[2 3]\n",
    "                            #   [5 6]]"
   ]
  },
  {
   "cell_type": "markdown",
   "metadata": {},
   "source": [
    "# **Temel İşlemler**"
   ]
  },
  {
   "cell_type": "markdown",
   "metadata": {},
   "source": [
    "## **2.1 Dizi İşlemleri**"
   ]
  },
  {
   "cell_type": "markdown",
   "metadata": {},
   "source": [
    "### **2.1.1 Dizi Elemanlarına Erişim**\n",
    "\n",
    "Numpy dizilerinde, belirli elemanlara erişmek için çeşitli yöntemler bulunmaktadır. Bu yöntemler, tek bir elemana, belirli bir alt kümeye veya belirli bir koşulu sağlayan elemanlara erişmek için kullanılır. İşte farklı yöntemler ve örnekler:"
   ]
  },
  {
   "cell_type": "markdown",
   "metadata": {},
   "source": [
    "#### **2.1.1.1 Tek Bir Elemana Erişim**\n",
    "\n",
    "Tek bir elemana erişmek için, dizinin indeksini belirtiriz. Numpy dizileri, 0'dan başlayarak indekslenir."
   ]
  },
  {
   "cell_type": "code",
   "execution_count": 21,
   "metadata": {},
   "outputs": [
    {
     "name": "stdout",
     "output_type": "stream",
     "text": [
      "Birinci eleman: 1\n",
      "Beşinci eleman: 5\n"
     ]
    }
   ],
   "source": [
    "import numpy as np\n",
    "\n",
    "# 1D dizi oluşturma\n",
    "arr = np.array([1, 2, 3, 4, 5])\n",
    "\n",
    "# Birinci elemana erişim\n",
    "print(\"Birinci eleman:\", arr[0])  # Çıktı: 1\n",
    "\n",
    "# Beşinci elemana erişim\n",
    "print(\"Beşinci eleman:\", arr[4])  # Çıktı: 5"
   ]
  },
  {
   "cell_type": "markdown",
   "metadata": {},
   "source": [
    "---\n",
    "#### **2.1.1.2 Dilimleme İle Erişim**\n",
    "\n",
    "Dilimleme, belirli bir alt kümenin seçilmesini sağlar. Başlangıç ve bitiş indeksleriyle belirtilen dilimler kullanılarak erişim yapılır.\n",
    "\n",
    "---"
   ]
  },
  {
   "cell_type": "code",
   "execution_count": 22,
   "metadata": {},
   "outputs": [
    {
     "name": "stdout",
     "output_type": "stream",
     "text": [
      "İkinci ve üçüncü elemanlar: [2 3]\n",
      "Tüm elemanlar: [1 2 3 4 5]\n"
     ]
    }
   ],
   "source": [
    "import numpy as np\n",
    "\n",
    "# 1D dizi oluşturma\n",
    "arr = np.array([1, 2, 3, 4, 5])\n",
    "\n",
    "# İkinci ve üçüncü elemanlara erişim\n",
    "print(\"İkinci ve üçüncü elemanlar:\", arr[1:3])  # Çıktı: [2 3]\n",
    "\n",
    "# Tüm elemanlara erişim\n",
    "print(\"Tüm elemanlar:\", arr[:])  # Çıktı: [1 2 3 4 5]"
   ]
  },
  {
   "cell_type": "markdown",
   "metadata": {},
   "source": [
    "---\n",
    "#### **2.1.1.3 Koşullu İndeksleme**\n",
    "\n",
    "Koşullu indeksleme, belirli bir koşulu sağlayan elemanları seçmek için kullanılır.\n",
    "\n",
    "\n",
    "---"
   ]
  },
  {
   "cell_type": "code",
   "execution_count": 23,
   "metadata": {},
   "outputs": [
    {
     "name": "stdout",
     "output_type": "stream",
     "text": [
      "3'ten büyük elemanlar: [4 5]\n"
     ]
    }
   ],
   "source": [
    "import numpy as np\n",
    "\n",
    "# 1D dizi oluşturma\n",
    "arr = np.array([1, 2, 3, 4, 5])\n",
    "\n",
    "# 3'ten büyük elemanlara erişim\n",
    "print(\"3'ten büyük elemanlar:\", arr[arr > 3])  # Çıktı: [4 5]"
   ]
  },
  {
   "cell_type": "markdown",
   "metadata": {},
   "source": [
    "#### **2.1.1.4 Çok Boyutlu Dizilerde Erişim**\n",
    "\n",
    "Çok boyutlu dizilerde, her boyuta ait bir indeks veya dilimleme kullanılır."
   ]
  },
  {
   "cell_type": "code",
   "execution_count": 24,
   "metadata": {},
   "outputs": [
    {
     "name": "stdout",
     "output_type": "stream",
     "text": [
      "İkinci satırın üçüncü elemanı: 6\n",
      "İlk iki satırın tüm elemanları: [[1 2 3]\n",
      " [4 5 6]]\n"
     ]
    }
   ],
   "source": [
    "import numpy as np\n",
    "\n",
    "# 2D dizi oluşturma\n",
    "arr = np.array([[1, 2, 3],\n",
    "                [4, 5, 6],\n",
    "                [7, 8, 9]])\n",
    "\n",
    "# İkinci satırın üçüncü elemanına erişim\n",
    "print(\"İkinci satırın üçüncü elemanı:\", arr[1, 2])  # Çıktı: 6\n",
    "\n",
    "# İlk iki satırın tüm elemanlarına erişim\n",
    "print(\"İlk iki satırın tüm elemanları:\", arr[:2, :])  # Çıktı: [[1 2 3]\n",
    "                                                        #        [4 5 6]]"
   ]
  },
  {
   "cell_type": "markdown",
   "metadata": {},
   "source": [
    "---\n",
    "\n",
    "### **2.1.2 Aritmetik İşlemler**\n",
    "\n",
    "Numpy dizileri, matematiksel işlemleri gerçekleştirmek için kullanılabilir. Bu işlemler, dizinin her elemanı üzerinde tek tek uygulanır veya iki dizinin karşılıklı elemanları arasında gerçekleştirilir. Numpy, bu işlemleri vektörize edilmiş hızlı işlemler olarak gerçekleştirir, bu da büyük veri setleri üzerinde verimliliği artırır.\n",
    "\n",
    "---\n",
    "\n",
    "#### **2.1.2.1 Temel Aritmetik İşlemler:**\n",
    "\n",
    "1. **Toplama**: İki dizinin karşılıklı elemanlarını toplar.\n",
    "2. **Çıkarma**: İki dizinin karşılıklı elemanlarını çıkarır.\n",
    "3. **Çarpma**: İki dizinin karşılıklı elemanlarını çarpar.\n",
    "4. **Bölme**: İki dizinin karşılıklı elemanlarını böler."
   ]
  },
  {
   "cell_type": "code",
   "execution_count": 25,
   "metadata": {},
   "outputs": [
    {
     "name": "stdout",
     "output_type": "stream",
     "text": [
      "Toplama: [5 7 9]\n",
      "Çıkarma: [-3 -3 -3]\n",
      "Çarpma: [ 4 10 18]\n",
      "Bölme: [0.25 0.4  0.5 ]\n"
     ]
    }
   ],
   "source": [
    "import numpy as np\n",
    "\n",
    "# İki dizi oluşturma\n",
    "arr1 = np.array([1, 2, 3])\n",
    "arr2 = np.array([4, 5, 6])\n",
    "\n",
    "# Toplama\n",
    "result_addition = arr1 + arr2\n",
    "print(\"Toplama:\", result_addition)  # Çıktı: [5 7 9]\n",
    "\n",
    "# Çıkarma\n",
    "result_subtraction = arr1 - arr2\n",
    "print(\"Çıkarma:\", result_subtraction)  # Çıktı: [-3 -3 -3]\n",
    "\n",
    "# Çarpma\n",
    "result_multiplication = arr1 * arr2\n",
    "print(\"Çarpma:\", result_multiplication)  # Çıktı: [ 4 10 18]\n",
    "\n",
    "# Bölme\n",
    "result_division = arr1 / arr2\n",
    "print(\"Bölme:\", result_division)  # Çıktı: [0.25 0.4  0.5 ]"
   ]
  },
  {
   "cell_type": "markdown",
   "metadata": {},
   "source": [
    "#### **2.1.2.2 Üstel ve Logaritmik İşlemler:**\n",
    "\n",
    "Numpy, diziler üzerinde üstel ve logaritmik işlemleri gerçekleştirmek için de fonksiyonlar sağlar.\n",
    "\n",
    "1. **Üs Alma**: `np.power()` fonksiyonu kullanılarak her elemanın bir üs alınır.\n",
    "\n",
    "2. **Logaritma**: `np.log()` ve `np.log10()` fonksiyonları kullanılarak logaritmalar hesaplanır.\n",
    "\n",
    "\n",
    "---"
   ]
  },
  {
   "cell_type": "code",
   "execution_count": 26,
   "metadata": {},
   "outputs": [
    {
     "name": "stdout",
     "output_type": "stream",
     "text": [
      "Üs alma (2^x): [1 4 9]\n",
      "Logaritma (doğal logaritma): [0.         0.69314718 1.09861229]\n",
      "Logaritma (10 tabanında): [0.         0.30103    0.47712125]\n"
     ]
    }
   ],
   "source": [
    "import numpy as np\n",
    "\n",
    "# Dizi oluşturma\n",
    "arr = np.array([1, 2, 3])\n",
    "\n",
    "# Üs alma (2^x)\n",
    "result_power = np.power(arr, 2)\n",
    "print(\"Üs alma (2^x):\", result_power)  # Çıktı: [1 4 9]\n",
    "\n",
    "# Logaritma (doğal logaritma)\n",
    "result_log = np.log(arr)\n",
    "print(\"Logaritma (doğal logaritma):\", result_log)  # Çıktı: [0.         0.69314718 1.09861229]\n",
    "\n",
    "# Logaritma (10 tabanında)\n",
    "result_log10 = np.log10(arr)\n",
    "print(\"Logaritma (10 tabanında):\", result_log10)  # Çıktı: [0.         0.30103    0.47712125]"
   ]
  },
  {
   "cell_type": "markdown",
   "metadata": {},
   "source": [
    "#### **2.1.2.3 İleri Düzey İşlemler**\n",
    "\n",
    "Numpy, dizilerde yaygın olarak kullanılan diğer matematiksel fonksiyonları da destekler, örneğin trigonometrik, hiperbolik, ters trigonometrik ve diğer özel fonksiyonlar.\n",
    "\n",
    "---"
   ]
  },
  {
   "cell_type": "code",
   "execution_count": 27,
   "metadata": {},
   "outputs": [
    {
     "name": "stdout",
     "output_type": "stream",
     "text": [
      "Sinüs: [0.0000000e+00 1.0000000e+00 1.2246468e-16]\n",
      "Cosinüs: [ 1.000000e+00  6.123234e-17 -1.000000e+00]\n",
      "Tanjant: [ 0.00000000e+00  1.63312394e+16 -1.22464680e-16]\n"
     ]
    }
   ],
   "source": [
    "import numpy as np\n",
    "\n",
    "# Dizi oluşturma\n",
    "arr = np.array([0, np.pi/2, np.pi])\n",
    "\n",
    "# Sinüs\n",
    "result_sin = np.sin(arr)\n",
    "print(\"Sinüs:\", result_sin)  # Çıktı: [0.0000000e+00 1.0000000e+00 1.2246468e-16]\n",
    "\n",
    "# Cosinüs\n",
    "result_cos = np.cos(arr)\n",
    "print(\"Cosinüs:\", result_cos)  # Çıktı: [ 1.000000e+00  6.123234e-17 -1.000000e+00]\n",
    "\n",
    "# Tanjant\n",
    "result_tan = np.tan(arr)\n",
    "print(\"Tanjant:\", result_tan)  # Çıktı: [ 0.00000000e+00  1.63312394e+16 -1.22464680e-16]"
   ]
  },
  {
   "cell_type": "markdown",
   "metadata": {},
   "source": [
    "\n",
    "---\n",
    "\n",
    "### **2.1.3 Rastgele Sayılar Üretme**\n",
    "\n",
    "Numpy, rastgele sayılar üretmek için `numpy.random` modülünü sağlar. Bu modül, farklı dağılımlara sahip rastgele sayılar üretmek için çeşitli fonksiyonlar içerir. Ayrıca, rastgele sayıların tekrar üretilebilir olmasını sağlamak için `seed()` fonksiyonu kullanılabilir."
   ]
  },
  {
   "cell_type": "markdown",
   "metadata": {},
   "source": [
    "\n",
    "---\n",
    "\n",
    "#### **2.1.3.1 np.random.rand()**\n",
    "\n",
    "`np.random.rand()` fonksiyonu, 0 ile 1 arasında uniform (eşit olasılıklı) dağılıma sahip rastgele sayılar üretir.\n",
    "\n"
   ]
  },
  {
   "cell_type": "code",
   "execution_count": 28,
   "metadata": {},
   "outputs": [
    {
     "name": "stdout",
     "output_type": "stream",
     "text": [
      "[0.80726368 0.1899492  0.98928982]\n"
     ]
    }
   ],
   "source": [
    "# 0 ile 1 arasında uniform dağılıma sahip 3 rastgele sayı üretme\n",
    "random_numbers = np.random.rand(3)\n",
    "print(random_numbers)  # Örnek Çıktı: [0.891773   0.03942688 0.16983042]"
   ]
  },
  {
   "cell_type": "markdown",
   "metadata": {},
   "source": [
    "\n",
    "---\n",
    "#### **2.1.3.2 seed() Fonksiyonu**\n",
    "\n",
    "`np.random.seed()` fonksiyonu, rastgele sayı üretiminde kullanılan rastgele sayı üretecinin başlangıç durumunu belirler. Bu, aynı seed değeri kullanıldığında, aynı rastgele sayılar üretileceği anlamına gelir. Bu, rastgele sayılarla çalışırken tekrarlanabilirlik gerektiğinde yararlıdır."
   ]
  },
  {
   "cell_type": "code",
   "execution_count": 29,
   "metadata": {},
   "outputs": [
    {
     "name": "stdout",
     "output_type": "stream",
     "text": [
      "[0.37454012 0.95071431 0.73199394]\n",
      "[0.69646919 0.28613933 0.22685145]\n"
     ]
    }
   ],
   "source": [
    "import numpy as np\n",
    "\n",
    "# seed() fonksiyonu kullanarak başlangıç durumunu belirleme\n",
    "np.random.seed(42)\n",
    "\n",
    "# Aynı seed değeri kullanıldığında aynı rastgele sayılar üretilir\n",
    "print(np.random.rand(3))  # Çıktı: [0.37454012 0.95071431 0.73199394]\n",
    "\n",
    "# Farklı bir seed değeri kullanıldığında farklı rastgele sayılar üretilir\n",
    "np.random.seed(123)\n",
    "print(np.random.rand(3))  # Çıktı: [0.69646919 0.28613933 0.22685145]"
   ]
  },
  {
   "cell_type": "markdown",
   "metadata": {},
   "source": [
    "\n",
    "---\n",
    "#### **2.1.3.3 np.random.randint()**\n",
    "\n",
    "`np.random.randint()` fonksiyonu, belirli bir aralıktan rastgele tam sayılar üretir."
   ]
  },
  {
   "cell_type": "code",
   "execution_count": 30,
   "metadata": {},
   "outputs": [
    {
     "name": "stdout",
     "output_type": "stream",
     "text": [
      "[ 7  2  4 10  7]\n"
     ]
    }
   ],
   "source": [
    "# 1 ile 10 arasında rastgele tam sayı üretme\n",
    "random_integers = np.random.randint(1, 11, size=5)\n",
    "print(random_integers)  # Örnek Çıktı: [6 3 3 7 4]"
   ]
  },
  {
   "cell_type": "markdown",
   "metadata": {},
   "source": [
    "\n",
    "---\n",
    "#### **2.1.3.4 np.random.randn()**\n",
    "\n",
    "`np.random.randn()` fonksiyonu, standart normal dağılıma (ortalaması 0, standart sapması 1) sahip rastgele sayılar üretir."
   ]
  },
  {
   "cell_type": "code",
   "execution_count": 31,
   "metadata": {},
   "outputs": [
    {
     "name": "stdout",
     "output_type": "stream",
     "text": [
      "[ 1.59530112 -1.78309431 -0.28645147]\n"
     ]
    }
   ],
   "source": [
    "# Standart normal dağılıma sahip 3 rastgele sayı üretme\n",
    "random_normal_numbers = np.random.randn(3)\n",
    "print(random_normal_numbers)  # Örnek Çıktı: [-0.987502   -0.55895427  0.77606027]"
   ]
  },
  {
   "cell_type": "markdown",
   "metadata": {},
   "source": [
    "\n",
    "---\n",
    "#### **2.1.3.5 np.random.choice()**\n",
    "\n",
    "`np.random.choice()` fonksiyonu, bir diziden rastgele örnekleme yapar."
   ]
  },
  {
   "cell_type": "code",
   "execution_count": 32,
   "metadata": {},
   "outputs": [
    {
     "name": "stdout",
     "output_type": "stream",
     "text": [
      "[5 3 2]\n"
     ]
    }
   ],
   "source": [
    "# Verilen bir diziden rastgele örnekleme yapma\n",
    "arr = np.array([1, 2, 3, 4, 5])\n",
    "random_sample = np.random.choice(arr, size=3, replace=False)\n",
    "print(random_sample)  # Örnek Çıktı: [4 2 5]"
   ]
  },
  {
   "cell_type": "markdown",
   "metadata": {},
   "source": [
    "## **2.2 Array Şekil Değiştirme**"
   ]
  },
  {
   "cell_type": "markdown",
   "metadata": {},
   "source": [
    "### **2.2.1 Dizinin Şeklini Değiştirme**"
   ]
  },
  {
   "cell_type": "markdown",
   "metadata": {},
   "source": [
    "\n",
    "---\n",
    "#### **2.2.1.1 `reshape()` Fonksiyonu**\n",
    "\n",
    "`reshape()` fonksiyonu, bir dizinin şeklini belirli bir şekilde değiştirmek için kullanılır. Yeni şekil, orijinal dizinin eleman sayısına uygun olmalıdır."
   ]
  },
  {
   "cell_type": "code",
   "execution_count": 33,
   "metadata": {},
   "outputs": [
    {
     "name": "stdout",
     "output_type": "stream",
     "text": [
      "1d Dizi: [1 2 3 4 5 6] \n",
      "\n",
      "2D Dizi:\n",
      " [[1 2 3]\n",
      " [4 5 6]]\n"
     ]
    }
   ],
   "source": [
    "import numpy as np\n",
    "\n",
    "# 1D diziyi 2x3 2D dizisine dönüştürme\n",
    "arr1d = np.array([1, 2, 3, 4, 5, 6])\n",
    "print(\"1d Dizi:\",  arr1d, \"\\n\")\n",
    "arr2d = arr1d.reshape(2, 3)\n",
    "print(\"2D Dizi:\\n\", arr2d)"
   ]
  },
  {
   "cell_type": "markdown",
   "metadata": {},
   "source": [
    "\n",
    "---\n",
    "#### **2.2.1.2 `resize()` Fonksiyonu**\n",
    "\n",
    "`resize()` fonksiyonu, bir diziyi belirtilen şekilde değiştirir, ancak orijinal diziyi değiştirir."
   ]
  },
  {
   "cell_type": "code",
   "execution_count": 34,
   "metadata": {},
   "outputs": [
    {
     "name": "stdout",
     "output_type": "stream",
     "text": [
      "[1 2 3 4 5 6] \n",
      "\n",
      "Yeniden Boyutlandırılmış Dizi:\n",
      " [[1 2 3]\n",
      " [4 5 6]]\n"
     ]
    }
   ],
   "source": [
    "arr1d_ornek = np.array([1, 2, 3, 4, 5, 6])\n",
    "print(arr1d_ornek, \"\\n\")\n",
    "# Orijinal diziyi değiştirerek yeniden boyutlandırma\n",
    "arr1d_ornek.resize(2, 3)\n",
    "print(\"Yeniden Boyutlandırılmış Dizi:\\n\", arr1d_ornek)"
   ]
  },
  {
   "cell_type": "markdown",
   "metadata": {},
   "source": [
    "\n",
    "---\n",
    "#### **2.2.1.3 `reshape()` ve `-1` Kullanımı**\n",
    "\n",
    "`reshape()` fonksiyonunda bir boyut için `-1` kullanarak, o boyutun boyutunu otomatik olarak belirtebiliriz."
   ]
  },
  {
   "cell_type": "code",
   "execution_count": 35,
   "metadata": {},
   "outputs": [
    {
     "name": "stdout",
     "output_type": "stream",
     "text": [
      "[1 2 3 4 5 6] \n",
      "\n",
      "Otomatik Boyutlandırılmış Dizi:\n",
      " [[1 2 3]\n",
      " [4 5 6]]\n"
     ]
    }
   ],
   "source": [
    "print(arr1d, \"\\n\")\n",
    "# Orijinal diziyi 2D dizisine dönüştürme, -1 ile otomatik boyut belirleme\n",
    "arr2d_auto = arr1d.reshape(2, -1)\n",
    "print(\"Otomatik Boyutlandırılmış Dizi:\\n\", arr2d_auto)"
   ]
  },
  {
   "cell_type": "markdown",
   "metadata": {},
   "source": [
    "\n",
    "---\n",
    "#### **2.2.1.4 Düzleştirme: flatten() Fonksiyonu**\n",
    "\n",
    "`flatten()` fonksiyonu, çok boyutlu bir diziyi düzleştirerek 1D diziye dönüştürür."
   ]
  },
  {
   "cell_type": "code",
   "execution_count": 36,
   "metadata": {},
   "outputs": [
    {
     "name": "stdout",
     "output_type": "stream",
     "text": [
      "[[1 2 3]\n",
      " [4 5 6]] \n",
      "\n",
      "Düzleştirilmiş Dizi:\n",
      " [1 2 3 4 5 6]\n"
     ]
    }
   ],
   "source": [
    "print(arr2d, \"\\n\")\n",
    "# 2D diziyi düzleştirme\n",
    "arr_flattened = arr2d.flatten()\n",
    "print(\"Düzleştirilmiş Dizi:\\n\", arr_flattened)"
   ]
  },
  {
   "cell_type": "markdown",
   "metadata": {},
   "source": [
    "\n",
    "---\n",
    "#### **2.2.1.5 `ravel()` Fonksiyonu**\n",
    "\n",
    "`ravel()` fonksiyonu da düzleştirme işlemi yapar, ancak orijinal dizideki verilere bir referans sağlar."
   ]
  },
  {
   "cell_type": "code",
   "execution_count": 37,
   "metadata": {},
   "outputs": [
    {
     "name": "stdout",
     "output_type": "stream",
     "text": [
      "Düzleştirilmiş Dizi (ravel):\n",
      " [1 2 3 4 5 6]\n"
     ]
    }
   ],
   "source": [
    "# 2D diziyi düzleştirme (ravel)\n",
    "arr_raveled = arr2d.ravel()\n",
    "print(\"Düzleştirilmiş Dizi (ravel):\\n\", arr_raveled)"
   ]
  },
  {
   "cell_type": "markdown",
   "metadata": {},
   "source": [
    "\n",
    "---\n",
    "### **2.2.2 Dizileri Birleştirme ve Ayırma**\n",
    "\n",
    "Numpy, dizileri birleştirme ve ayırma işlemleri için çeşitli yöntemler sunar. Bu yöntemler, dizileri birleştirmek için `concatenate()` ve `stack()` gibi fonksiyonları içerirken, ayırma işlemleri için `split()` fonksiyonu kullanılır."
   ]
  },
  {
   "cell_type": "markdown",
   "metadata": {},
   "source": [
    "\n",
    "---\n",
    "#### **2.2.2.1 `concatenate()` Fonksiyonu**\n",
    "\n",
    "`concatenate()` fonksiyonu, belirtilen eksen boyunca iki veya daha fazla diziyi birleştirir."
   ]
  },
  {
   "cell_type": "code",
   "execution_count": 38,
   "metadata": {},
   "outputs": [
    {
     "name": "stdout",
     "output_type": "stream",
     "text": [
      "Birleştirilmiş Dizi: [1 2 3 4 5 6]\n"
     ]
    }
   ],
   "source": [
    "import numpy as np\n",
    "\n",
    "# İki diziyi birleştirme\n",
    "arr1 = np.array([1, 2, 3])\n",
    "arr2 = np.array([4, 5, 6])\n",
    "\n",
    "result_concatenate = np.concatenate((arr1, arr2))\n",
    "print(\"Birleştirilmiş Dizi:\", result_concatenate)  # Çıktı: [1 2 3 4 5 6]"
   ]
  },
  {
   "cell_type": "markdown",
   "metadata": {},
   "source": [
    "\n",
    "---\n",
    "#### **2.2.2.2 `stack()` Fonksiyonu**\n",
    "\n",
    "`stack()` fonksiyonu, belirtilen eksen boyunca dizileri birleştirirken, yeni bir boyut ekler."
   ]
  },
  {
   "cell_type": "code",
   "execution_count": 39,
   "metadata": {},
   "outputs": [
    {
     "name": "stdout",
     "output_type": "stream",
     "text": [
      "Yığılmış Dizi:\n",
      " [[1 2 3]\n",
      " [4 5 6]]\n"
     ]
    }
   ],
   "source": [
    "# İki diziyi yığma (stacking)\n",
    "result_stack = np.stack((arr1, arr2))\n",
    "print(\"Yığılmış Dizi:\\n\", result_stack)"
   ]
  },
  {
   "cell_type": "markdown",
   "metadata": {},
   "source": [
    "\n",
    "---\n",
    "#### **2.2.2.3 `vstack()` ve `hstack()` Fonksiyonları**\n",
    "\n",
    "`vstack()` fonksiyonu, dikey olarak (satır bazında) dizileri birleştirirken, `hstack()` fonksiyonu, yatay olarak (sütun bazında) birleştirir."
   ]
  },
  {
   "cell_type": "code",
   "execution_count": 40,
   "metadata": {},
   "outputs": [
    {
     "name": "stdout",
     "output_type": "stream",
     "text": [
      "Dikey Birleştirilmiş Dizi:\n",
      " [[1 2 3]\n",
      " [4 5 6]]\n",
      "Yatay Birleştirilmiş Dizi: [1 2 3 4 5 6]\n"
     ]
    }
   ],
   "source": [
    "# Dikey olarak dizileri birleştirme (vstack)\n",
    "result_vstack = np.vstack((arr1, arr2))\n",
    "print(\"Dikey Birleştirilmiş Dizi:\\n\", result_vstack)\n",
    "\n",
    "# Yatay olarak dizileri birleştirme (hstack)\n",
    "result_hstack = np.hstack((arr1, arr2))\n",
    "print(\"Yatay Birleştirilmiş Dizi:\", result_hstack)"
   ]
  },
  {
   "cell_type": "markdown",
   "metadata": {},
   "source": [
    "\n",
    "---\n",
    "#### **2.2.2.4 `split()` Fonksiyonu**\n",
    "\n",
    "`split()` fonksiyonu, belirtilen bir diziyi verilen bir pozisyonda ayırır."
   ]
  },
  {
   "cell_type": "code",
   "execution_count": 41,
   "metadata": {},
   "outputs": [
    {
     "name": "stdout",
     "output_type": "stream",
     "text": [
      "Ayrılmış Dizi: [array([1, 2]), array([3, 4]), array([5, 6])]\n"
     ]
    }
   ],
   "source": [
    "arr = np.array([1, 2, 3, 4, 5, 6])\n",
    "result_split = np.split(arr, [2, 4])\n",
    "print(\"Ayrılmış Dizi:\", result_split)  # Çıktı: [array([1, 2]), array([3, 4]), array([5, 6])]"
   ]
  },
  {
   "cell_type": "markdown",
   "metadata": {},
   "source": [
    "\n",
    "---\n",
    "#### **2.2.2.5 `vsplit()` ve `hsplit()` Fonksiyonları**\n",
    "\n",
    "`vsplit()` fonksiyonu, dikey olarak (satır bazında), `hsplit()` fonksiyonu ise yatay olarak (sütun bazında) bir diziyi ayırır."
   ]
  },
  {
   "cell_type": "code",
   "execution_count": 42,
   "metadata": {},
   "outputs": [
    {
     "name": "stdout",
     "output_type": "stream",
     "text": [
      "Dikey Ayrılmış Dizi:\n",
      " [array([[1, 2, 3]]), array([[4, 5, 6]])]\n",
      "Yatay Ayrılmış Dizi: [array([[1],\n",
      "       [4]]), array([[2],\n",
      "       [5]]), array([[3],\n",
      "       [6]])]\n"
     ]
    }
   ],
   "source": [
    "# Dikey olarak diziyi ayırma (vsplit)\n",
    "arr_2d = np.array([[1, 2, 3], [4, 5, 6]])\n",
    "result_vsplit = np.vsplit(arr_2d, 2)\n",
    "print(\"Dikey Ayrılmış Dizi:\\n\", result_vsplit)\n",
    "\n",
    "# Yatay olarak diziyi ayırma (hsplit)\n",
    "result_hsplit = np.hsplit(arr_2d, 3)\n",
    "print(\"Yatay Ayrılmış Dizi:\", result_hsplit)"
   ]
  },
  {
   "cell_type": "markdown",
   "metadata": {},
   "source": [
    "## **2.3 Veri Tipi Dönüşümleri**\n",
    "\n",
    "Numpy, farklı veri tipleri arasında dönüşümler yapmak için çeşitli fonksiyonlar sağlar. Bu dönüşümler, bir veri tipini başka bir veri tipine dönüştürmek için kullanılır."
   ]
  },
  {
   "cell_type": "markdown",
   "metadata": {},
   "source": [
    "### **2.3.1 `astype()` Fonksiyonu**\n",
    "\n",
    "`astype()` fonksiyonu, bir dizinin veri tipini belirtilen bir veri tipine dönüştürür."
   ]
  },
  {
   "cell_type": "code",
   "execution_count": 43,
   "metadata": {},
   "outputs": [
    {
     "name": "stdout",
     "output_type": "stream",
     "text": [
      "Dönüştürülmüş Dizi (integer):\n",
      " [1 2 3 4]\n",
      "Dönüştürülmüş Dizi (string):\n",
      " ['1.1' '2.2' '3.3' '4.4']\n"
     ]
    }
   ],
   "source": [
    "import numpy as np\n",
    "\n",
    "# İlk olarak, bir float veri tipine sahip bir dizi oluşturalım\n",
    "arr_float = np.array([1.1, 2.2, 3.3, 4.4])\n",
    "\n",
    "# Dizinin veri tipini integer olarak dönüştürelim\n",
    "arr_int = arr_float.astype(int)\n",
    "print(\"Dönüştürülmüş Dizi (integer):\\n\", arr_int)\n",
    "\n",
    "# Dizinin veri tipini string olarak dönüştürelim\n",
    "arr_str = arr_float.astype(str)\n",
    "print(\"Dönüştürülmüş Dizi (string):\\n\", arr_str)"
   ]
  },
  {
   "cell_type": "markdown",
   "metadata": {},
   "source": [
    "### **2.3.2 `asarray()` Fonksiyonu**\n",
    "\n",
    "`asarray()` fonksiyonu, bir nesneyi diziye dönüştürür. Bu fonksiyon, belirtilen bir veri tipini de kabul eder."
   ]
  },
  {
   "cell_type": "code",
   "execution_count": 44,
   "metadata": {},
   "outputs": [
    {
     "name": "stdout",
     "output_type": "stream",
     "text": [
      "Dönüştürülmüş Dizi:\n",
      " [1. 2. 3. 4. 5.]\n"
     ]
    }
   ],
   "source": [
    "# Listeyi diziye dönüştürme ve veri tipini belirtme\n",
    "arr_list = [1, 2, 3, 4, 5]\n",
    "arr_array = np.asarray(arr_list, dtype=float)\n",
    "print(\"Dönüştürülmüş Dizi:\\n\", arr_array)"
   ]
  },
  {
   "cell_type": "markdown",
   "metadata": {},
   "source": [
    "\n",
    "---\n",
    "\n",
    "### **2.3.3 Veri Tipi Sınırlamaları ve İşlem Önerileri**\n",
    "\n",
    "Numpy'de veri tipleri, hesaplama sırasında önemli bir rol oynar. Farklı veri tipleri, bellek kullanımı, performans ve sonuçların doğruluğu açısından farklı avantajlar ve sınırlamalar sunar. Bu nedenle, veri tiplerini doğru bir şekilde seçmek önemlidir.\n",
    "\n",
    "#### **Veri Tipi Sınırlamaları**\n",
    "\n",
    "Numpy'de yaygın olarak kullanılan bazı veri tipleri şunlardır:\n",
    "\n",
    "- `int8`, `int16`, `int32`, `int64`: İşaretli tam sayılar.\n",
    "- `uint8`, `uint16`, `uint32`, `uint64`: İşaretsiz tam sayılar.\n",
    "- `float16`, `float32`, `float64`, `float128`: Ondalıklı sayılar.\n",
    "- `bool`: Mantıksal (boolean) değerler.\n",
    "- `complex64`, `complex128`, `complex256`: Karmaşık sayılar.\n",
    "\n",
    "Her veri tipinin sınırlamaları vardır. Örneğin, daha küçük bir veri tipi daha az bellek kullanırken, daha büyük bir veri tipi daha büyük değerleri temsil edebilir ancak daha fazla bellek kullanır. Ayrıca, veri tipleri arasında dönüşüm yaparken, veri kaybına yol açabilirsiniz.\n",
    "\n",
    "#### **İşlem Önerileri**\n",
    "\n",
    "1. **Veri Tipi Seçimi**: Veri tipi seçerken, kullanılacak değerlerin aralığını ve hassasiyetini göz önünde bulundurmak önemlidir. Örneğin, integer yerine float veri tipini tercih etmek, daha geniş bir aralığı ve hassasiyeti sağlar, ancak daha fazla bellek kullanır.\n",
    "\n",
    "2. **İşlem Hızı ve Bellek Kullanımı**: Büyük veri kümeleriyle çalışırken, veri tipi seçiminin işlem hızı ve bellek kullanımı üzerinde büyük bir etkisi olabilir. Daha küçük veri tipleri daha az bellek kullanırken, işlemler daha hızlı olabilir. Ancak, veri kaybı riski daha yüksektir.\n",
    "\n",
    "3. **Veri Dönüşümleri**: İşlem sırasında, veri tipleri arasında dönüşümler yapılabilir. Ancak, bu dönüşümler veri kaybına yol açabilir. Bu nedenle, mümkünse, işlem yapmadan önce veri tiplerini dikkatlice seçmek önemlidir.\n",
    "\n",
    "#### Örnekler\n",
    "\n",
    "```python\n",
    "import numpy as np\n",
    "\n",
    "# Veri tiplerinin sınırlamaları\n",
    "print(\"int16 Sınırları:\", np.iinfo(np.int16))\n",
    "print(\"float32 Sınırları:\", np.finfo(np.float32))\n",
    "\n",
    "# Veri tipi dönüşümleri ve işlem önerileri\n",
    "arr_float32 = np.array([1.5, 2.5, 3.5], dtype=np.float32)\n",
    "arr_int32 = arr_float32.astype(np.int32)\n",
    "print(\"Dönüştürülmüş Dizi (int32):\\n\", arr_int32)\n",
    "```\n",
    "\n",
    "Bu örnekte, `np.iinfo()` ve `np.finfo()` fonksiyonları ile farklı veri tiplerinin sınırları gösterilmiş ve `astype()` fonksiyonu ile veri tipi dönüşümü yapılmıştır. Bu, veri tipi seçimi ve dönüşümleri konusunda dikkatli olmanın önemini vurgular.\n",
    "\n",
    "---"
   ]
  },
  {
   "cell_type": "markdown",
   "metadata": {},
   "source": [
    "\n",
    "---\n",
    "\n",
    "## **2.4 Fancy Indexing**\n",
    "\n",
    "Fancy indexing, Numpy dizilerini dilimlemek veya dizinin belirli elemanlarına erişmek için dizileri kullanma yöntemidir. Bu yöntemde, bir dizi veya liste kullanılarak dizinin belirli elemanlarına erişilir. Fancy indexing, basit indeksleme ve dilimleme yöntemlerine ek olarak daha esnek ve güçlü bir seçenektir."
   ]
  },
  {
   "cell_type": "markdown",
   "metadata": {},
   "source": [
    "### **2.4.1 Tek Boyutlu Fancy Indexing**\n",
    "\n",
    "Tek boyutlu dizilerde, fancy indexing bir dizi veya liste kullanarak belirli elemanlara erişmek için kullanılır."
   ]
  },
  {
   "cell_type": "code",
   "execution_count": 45,
   "metadata": {},
   "outputs": [
    {
     "name": "stdout",
     "output_type": "stream",
     "text": [
      "Fancy Indexing Sonucu: [10 30 50]\n"
     ]
    }
   ],
   "source": [
    "import numpy as np\n",
    "\n",
    "arr = np.array([10, 20, 30, 40, 50])\n",
    "\n",
    "# Fancy indexing kullanarak belirli elemanlara erişme\n",
    "indices = [0, 2, 4]\n",
    "result = arr[indices]\n",
    "print(\"Fancy Indexing Sonucu:\", result)  # Çıktı: [10 30 50]"
   ]
  },
  {
   "cell_type": "markdown",
   "metadata": {},
   "source": [
    "### **2.4.2 İki Boyutlu Fancy Indexing**\n",
    "\n",
    "İki boyutlu dizilerde, fancy indexing her boyut için ayrı bir dizi veya liste kullanılarak belirli elemanlara erişmek için kullanılır."
   ]
  },
  {
   "cell_type": "code",
   "execution_count": 46,
   "metadata": {},
   "outputs": [
    {
     "name": "stdout",
     "output_type": "stream",
     "text": [
      "Fancy Indexing İle Seçilmiş Dizi:\n",
      " [[1 3]\n",
      " [7 9]]\n"
     ]
    }
   ],
   "source": [
    "# İki boyutlu dizide fancy indexing kullanma\n",
    "arr_2d = np.array([[1, 2, 3], [4, 5, 6], [7, 8, 9]])\n",
    "\n",
    "# Belirli satır ve sütunları seçme\n",
    "row_indices = [0, 2]\n",
    "col_indices = [0, 2]\n",
    "result_2d = arr_2d[row_indices][:, col_indices]\n",
    "print(\"Fancy Indexing İle Seçilmiş Dizi:\\n\", result_2d)"
   ]
  },
  {
   "cell_type": "markdown",
   "metadata": {},
   "source": [
    "### **2.4.3 Maskelerle Indexleme**\n",
    "\n",
    "Maskelerle indexleme, bir koşula bağlı olarak dizinin belirli elemanlarına erişmek için kullanılır. Bu, koşula uyan veya uymayan elemanlara erişmek için kullanışlı bir yöntemdir."
   ]
  },
  {
   "cell_type": "markdown",
   "metadata": {},
   "source": [
    "#### **2.4.3.1 Boolean Maskelerle Indexleme**\n",
    "\n",
    "Boolean maskeler, bir koşula bağlı olarak dizinin elemanlarını seçmek için kullanılır."
   ]
  },
  {
   "cell_type": "code",
   "execution_count": 47,
   "metadata": {},
   "outputs": [
    {
     "name": "stdout",
     "output_type": "stream",
     "text": [
      "Maskelenmiş Dizi: [3 4 5]\n"
     ]
    }
   ],
   "source": [
    "# Boolean maskelerle indexleme\n",
    "arr = np.array([1, 2, 3, 4, 5])\n",
    "\n",
    "mask = arr > 2\n",
    "result_masked = arr[mask]\n",
    "print(\"Maskelenmiş Dizi:\", result_masked)  # Çıktı: [3 4 5]"
   ]
  },
  {
   "cell_type": "markdown",
   "metadata": {},
   "source": [
    "#### **2.4.3.2 Koşul İfadeleri ile Indexleme**\n",
    "\n",
    "Koşul ifadeleri, belirli bir koşula uyan dizinin elemanlarına erişmek için kullanılır."
   ]
  },
  {
   "cell_type": "code",
   "execution_count": 48,
   "metadata": {},
   "outputs": [
    {
     "name": "stdout",
     "output_type": "stream",
     "text": [
      "Koşula Uyan Elemanlar: [3 4 5]\n"
     ]
    }
   ],
   "source": [
    "# Koşul ifadeleri ile indexleme\n",
    "arr = np.array([1, 2, 3, 4, 5])\n",
    "\n",
    "result_condition = arr[arr > 2]\n",
    "print(\"Koşula Uyan Elemanlar:\", result_condition)  # Çıktı: [3 4 5]"
   ]
  },
  {
   "cell_type": "markdown",
   "metadata": {},
   "source": [
    "## **2.5 Array Operasyonları**"
   ]
  },
  {
   "cell_type": "markdown",
   "metadata": {},
   "source": [
    "### **2.5.1 Broadcasting (Yayılma)**\n",
    "\n",
    "Numpy'nin yayılma (broadcasting) kavramı, farklı şekillere sahip diziler arasında element-wise işlemleri gerçekleştirmek için kullanılan bir özelliktir. Bu özellik, boyutları uygun hale getirerek, daha az boyuta sahip bir dizi ile daha büyük bir dizi arasındaki işlemleri gerçekleştirmeyi mümkün kılar.\n",
    "\n",
    "Yayılma, Numpy'deki vektörize edilmiş işlemleri yaparken çok yaygın olarak kullanılır. Bir dizi ile skaler değerler arasında veya iki farklı şekle sahip diziler arasında işlem yapmak istendiğinde yayılma devreye girer. Bu durumda, Numpy, uygun boyutları otomatik olarak eşleştirir ve işlemi gerçekleştirir.\n",
    "\n",
    "Örneğin, iki farklı boyuta sahip diziler arasında toplama işlemi yapmak istendiğinde, küçük boyuttaki dizi, büyük boyuttaki diziye yayılabilir ve işlem gerçekleştirilebilir.\n",
    "\n",
    "Yayılmanın kullanımı, kodun daha temiz ve daha az karmaşık olmasını sağlar. Ayrıca, Python'un yaygın işlemlerini vektörize etmek için yaygın olarak kullanılır, bu da işlemlerin daha hızlı ve daha verimli olmasını sağlar.\n",
    "\n",
    "Özetlemek gerekirse, Numpy'nin yayılma kavramı, farklı boyutlara sahip diziler arasında işlemleri kolaylaştıran ve vektörize etmeye olanak tanıyan bir özelliktir."
   ]
  },
  {
   "cell_type": "markdown",
   "metadata": {},
   "source": [
    "\n",
    "---\n",
    "\n",
    "#### **2.5.1.1 Broadcasting Kuralları**\n",
    "\n",
    "Numpy'de, broadcasting işlemlerinin gerçekleştirilmesi için belirli kurallar vardır. Bu kurallar, farklı şekillere sahip diziler arasında yayılma işlemlerini tanımlar ve uygun boyutları eşleştirmek için gereken adımları belirler.\n",
    "\n",
    "##### **1. Boyut Uyumluluğu**\n",
    "\n",
    "Broadcasting işlemleri yaparken, dizilerin boyutları karşılaştırılır. Her boyutta, iki dizi ya aynı boyuta sahip olmalıdır ya da biri boyutsuz olmalıdır. Eğer boyutlardan biri 1 ise, bu boyut, diğer diziye uyumlu hale getirilebilir."
   ]
  },
  {
   "cell_type": "code",
   "execution_count": 49,
   "metadata": {},
   "outputs": [
    {
     "name": "stdout",
     "output_type": "stream",
     "text": [
      "Broadcasting Sonucu:\n",
      " [[2. 3. 4.]\n",
      " [2. 3. 4.]\n",
      " [2. 3. 4.]]\n"
     ]
    }
   ],
   "source": [
    "import numpy as np\n",
    "\n",
    "# 3x3 boyutunda bir dizi\n",
    "arr1 = np.ones((3, 3))\n",
    "\n",
    "# 1 boyutunda bir dizi\n",
    "arr2 = np.array([1, 2, 3])\n",
    "\n",
    "# Broadcasting ile işlem\n",
    "result = arr1 + arr2\n",
    "print(\"Broadcasting Sonucu:\\n\", result)"
   ]
  },
  {
   "cell_type": "markdown",
   "metadata": {},
   "source": [
    "\n",
    "---\n",
    "##### **2. Boyut Uyumsuzluğunda Hata**\n",
    "\n",
    "Eğer broadcasting işlemi için uygun boyut eşleşmeleri sağlanamıyorsa, Numpy hata verecektir. Bu durumda, dizilerin boyutlarını uyumlu hale getirmek veya işlemi gerçekleştirmek için başka bir yöntem kullanmak gerekir.\n",
    "\n",
    "---"
   ]
  },
  {
   "cell_type": "code",
   "execution_count": 50,
   "metadata": {},
   "outputs": [
    {
     "ename": "ValueError",
     "evalue": "operands could not be broadcast together with shapes (3,3) (2,) ",
     "output_type": "error",
     "traceback": [
      "\u001b[1;31m---------------------------------------------------------------------------\u001b[0m",
      "\u001b[1;31mValueError\u001b[0m                                Traceback (most recent call last)",
      "Cell \u001b[1;32mIn[50], line 10\u001b[0m\n\u001b[0;32m      7\u001b[0m arr2 \u001b[38;5;241m=\u001b[39m np\u001b[38;5;241m.\u001b[39marray([\u001b[38;5;241m1\u001b[39m, \u001b[38;5;241m2\u001b[39m])\n\u001b[0;32m      9\u001b[0m \u001b[38;5;66;03m# Broadcasting ile işlem (Hata alınır)\u001b[39;00m\n\u001b[1;32m---> 10\u001b[0m result \u001b[38;5;241m=\u001b[39m \u001b[43marr1\u001b[49m\u001b[43m \u001b[49m\u001b[38;5;241;43m+\u001b[39;49m\u001b[43m \u001b[49m\u001b[43marr2\u001b[49m\n",
      "\u001b[1;31mValueError\u001b[0m: operands could not be broadcast together with shapes (3,3) (2,) "
     ]
    }
   ],
   "source": [
    "import numpy as np\n",
    "\n",
    "# 3x3 boyutunda bir dizi\n",
    "arr1 = np.ones((3, 3))\n",
    "\n",
    "# 2 boyutunda bir dizi\n",
    "arr2 = np.array([1, 2])\n",
    "\n",
    "# Broadcasting ile işlem (Hata alınır)\n",
    "result = arr1 + arr2"
   ]
  },
  {
   "cell_type": "markdown",
   "metadata": {},
   "source": [
    "\n",
    "---\n",
    "##### **3. Boyut Ekleme**\n",
    "\n",
    "Broadcasting işlemi sırasında, boyut ekleme adımı gerçekleştirilir. Diziler arasındaki boyut farkı, eksik olan boyutlara 1 eklenerek tamamlanır.\n",
    "\n",
    "---"
   ]
  },
  {
   "cell_type": "code",
   "execution_count": null,
   "metadata": {},
   "outputs": [],
   "source": [
    "import numpy as np\n",
    "\n",
    "# 3x3 boyutunda bir dizi\n",
    "arr1 = np.ones((3, 3))\n",
    "\n",
    "# 3 boyutunda bir dizi\n",
    "arr2 = np.array([1, 2, 3])\n",
    "\n",
    "# Broadcasting ile işlem\n",
    "result = arr1 + arr2[:, np.newaxis]\n",
    "print(\"Broadcasting Sonucu:\\n\", result)"
   ]
  },
  {
   "cell_type": "markdown",
   "metadata": {},
   "source": [
    "\n",
    "---\n",
    "#### **2.5.1.2 Örneklerle Yayılma Kullanımı**\n",
    "\n",
    "Numpy'de yayılma (broadcasting) özelliği, farklı şekillere sahip diziler arasında element-wise işlemleri gerçekleştirmek için kullanılır. Bu özellik, boyutları uygun hale getirerek, daha az boyuta sahip bir dizi ile daha büyük bir dizi arasındaki işlemleri gerçekleştirmeyi mümkün kılar. İşte farklı yöntemlerle kullanılan yayılma örnekleri:"
   ]
  },
  {
   "cell_type": "markdown",
   "metadata": {},
   "source": [
    "\n",
    "---\n",
    "##### **1. Temel Yayılma**\n",
    "\n",
    "Temel yayılma, iki dizinin boyutları aynı veya biri boyutsuzsa gerçekleşir. Bu durumda, element-wise işlem doğrudan uygulanabilir.\n",
    "\n",
    "---"
   ]
  },
  {
   "cell_type": "code",
   "execution_count": null,
   "metadata": {},
   "outputs": [],
   "source": [
    "import numpy as np\n",
    "\n",
    "arr1 = np.array([[1, 2, 3], [4, 5, 6]])\n",
    "arr2 = np.array([10, 20, 30])\n",
    "\n",
    "# Temel yayılma ile işlem\n",
    "result = arr1 + arr2\n",
    "print(\"Temel Yayılma Sonucu:\\n\", result)"
   ]
  },
  {
   "cell_type": "markdown",
   "metadata": {},
   "source": [
    "\n",
    "---\n",
    "##### **2. Boyut Ekleme ile Yayılma**\n",
    "\n",
    "Boyut ekleme ile yayılma, boyutları uyumlu hale getirerek işlem yapılmasını sağlar. Bu durumda, boyutları farklı olan diziler arasında yayılma işlemi gerçekleştirilebilir.\n",
    "\n",
    "---"
   ]
  },
  {
   "cell_type": "code",
   "execution_count": null,
   "metadata": {},
   "outputs": [],
   "source": [
    "# Boyut ekleme ile yayılma\n",
    "arr1 = np.array([[1, 2, 3], [4, 5, 6]])\n",
    "arr2 = np.array([10, 20, 30])\n",
    "\n",
    "# Boyut ekleme ile işlem\n",
    "result = arr1 + arr2[:, np.newaxis]\n",
    "print(\"Boyut Ekleme ile Yayılma Sonucu:\\n\", result)"
   ]
  },
  {
   "cell_type": "markdown",
   "metadata": {},
   "source": [
    "\n",
    "---\n",
    "##### **3. Broadcasting Kuralı ile Yayılma**\n",
    "\n",
    "Broadcasting kuralı, dizilerin uyumlu hale getirilmesi için gereken boyut eşleşmelerini belirler. Bu kuralı kullanarak, farklı boyutlara sahip diziler arasında yayılma işlemi gerçekleştirilebilir.\n",
    "\n",
    "---"
   ]
  },
  {
   "cell_type": "code",
   "execution_count": null,
   "metadata": {},
   "outputs": [],
   "source": [
    "# Broadcasting kuralı ile yayılma\n",
    "arr1 = np.array([[1, 2, 3], [4, 5, 6]])\n",
    "arr2 = np.array([1, 2])\n",
    "\n",
    "# Broadcasting kuralı ile işlem\n",
    "result = arr1 + arr2[:, np.newaxis]\n",
    "print(\"Broadcasting Kuralı ile Yayılma Sonucu:\\n\", result)"
   ]
  },
  {
   "cell_type": "markdown",
   "metadata": {},
   "source": [
    "\n",
    "---\n",
    "### **2.5.2 Dizi Yineleme (Repeating)**\n",
    "\n",
    "Numpy'de dizi yineleme, bir diziyi belirli bir eksen boyunca tekrarlayarak yeni bir dizi oluşturmayı sağlayan bir işlemdir. Bu işlem, dizinin belirli boyutlarındaki tekrarlarını oluşturur. Numpy'nin `repeat()` fonksiyonu veya `tile()` fonksiyonu ile gerçekleştirilir.\n",
    "\n",
    "---"
   ]
  },
  {
   "cell_type": "markdown",
   "metadata": {},
   "source": [
    "\n",
    "---\n",
    "#### **1. `repeat()` Fonksiyonu ile Yineleme**\n",
    "\n",
    "Numpy'de `repeat()` fonksiyonu, bir diziyi belirli sayıda tekrarlayarak yeni bir dizi oluşturur. Bu fonksiyon, belirtilen eksen boyunca tekrar sayısını ve tekrar edilecek diziyi alır.\n",
    "\n",
    "---"
   ]
  },
  {
   "cell_type": "code",
   "execution_count": null,
   "metadata": {},
   "outputs": [
    {
     "name": "stdout",
     "output_type": "stream",
     "text": [
      "repeat() Fonksiyonu ile Yineleme Sonucu: [1 1 1 2 2 2 3 3 3]\n"
     ]
    }
   ],
   "source": [
    "import numpy as np\n",
    "\n",
    "# Bir dizi oluşturalım\n",
    "arr = np.array([1, 2, 3])\n",
    "\n",
    "# Diziyi tekrarlayalım\n",
    "result = np.repeat(arr, 3)  # Her elemanı 3 kez tekrarla\n",
    "print(\"repeat() Fonksiyonu ile Yineleme Sonucu:\", result)  # Çıktı: [1 1 1 2 2 2 3 3 3]"
   ]
  },
  {
   "cell_type": "markdown",
   "metadata": {},
   "source": [
    "\n",
    "---\n",
    "#### **2. `tile()` Fonksiyonu ile Yineleme**\n",
    "\n",
    "`tile()` fonksiyonu, bir dizinin belirli bir şekilde yinelemesini sağlar. Bu fonksiyon, belirtilen şekil boyunca diziyi kopyalar ve yeni bir dizi oluşturur.\n",
    "\n",
    "---"
   ]
  },
  {
   "cell_type": "code",
   "execution_count": null,
   "metadata": {},
   "outputs": [
    {
     "name": "stdout",
     "output_type": "stream",
     "text": [
      "tile() Fonksiyonu ile Yineleme Sonucu: [1 2 3 1 2 3 1 2 3]\n"
     ]
    }
   ],
   "source": [
    "# Diziyi belirli bir şekilde yineleyelim\n",
    "result_tile = np.tile(arr, 3)  # Diziyi 3 kez yatayda yinele\n",
    "print(\"tile() Fonksiyonu ile Yineleme Sonucu:\", result_tile)  # Çıktı: [1 2 3 1 2 3 1 2 3]"
   ]
  },
  {
   "cell_type": "markdown",
   "metadata": {},
   "source": [
    "\n",
    "---\n",
    "### **2.5.3 İç Çarpım (Dot Product)**\n",
    "\n",
    "Numpy'de iç çarpım (dot product), iki vektör arasında veya bir matris ile bir vektör veya iki matris arasında yapılan matematiksel bir işlemdir. İç çarpım, vektörlerin veya matrislerin elemanlarının çarpılması ve toplanmasıyla hesaplanır."
   ]
  },
  {
   "cell_type": "markdown",
   "metadata": {},
   "source": [
    "\n",
    "---\n",
    "#### **1. İki Vektör Arasındaki İç Çarpım**\n",
    "\n",
    "İki vektör arasındaki iç çarpım, vektörlerin elemanları arasında yapılan çarpma işlemlerinin toplanmasıyla hesaplanır.\n",
    "\n",
    "---"
   ]
  },
  {
   "cell_type": "code",
   "execution_count": null,
   "metadata": {},
   "outputs": [
    {
     "name": "stdout",
     "output_type": "stream",
     "text": [
      "İki Vektör Arasındaki İç Çarpım: 32\n"
     ]
    }
   ],
   "source": [
    "import numpy as np\n",
    "\n",
    "# İki vektör oluşturalım\n",
    "vec1 = np.array([1, 2, 3])\n",
    "vec2 = np.array([4, 5, 6])\n",
    "\n",
    "# İki vektör arasındaki iç çarpımı hesaplayalım\n",
    "dot_product = np.dot(vec1, vec2)\n",
    "print(\"İki Vektör Arasındaki İç Çarpım:\", dot_product)  # Çıktı: 32"
   ]
  },
  {
   "cell_type": "markdown",
   "metadata": {},
   "source": [
    "\n",
    "---\n",
    "#### **2. Matris ve Vektör Arasındaki İç Çarpım**\n",
    "\n",
    "Bir matris ile bir vektör arasındaki iç çarpım, matrisin satırlarıyla vektörün sütunlarının elemanları arasında yapılan çarpma işlemlerinin toplanmasıyla hesaplanır.\n",
    "\n",
    "---"
   ]
  },
  {
   "cell_type": "code",
   "execution_count": null,
   "metadata": {},
   "outputs": [
    {
     "name": "stdout",
     "output_type": "stream",
     "text": [
      "Matris ve Vektör Arasındaki İç Çarpım: [ 8 18 28]\n"
     ]
    }
   ],
   "source": [
    "# Bir matris ve bir vektör oluşturalım\n",
    "matrix = np.array([[1, 2], [3, 4], [5, 6]])\n",
    "vector = np.array([2, 3])\n",
    "\n",
    "# Matris ve vektör arasındaki iç çarpımı hesaplayalım\n",
    "dot_product_matrix_vector = np.dot(matrix, vector)\n",
    "print(\"Matris ve Vektör Arasındaki İç Çarpım:\", dot_product_matrix_vector)  # Çıktı: [ 8 18 28]"
   ]
  },
  {
   "cell_type": "markdown",
   "metadata": {},
   "source": [
    "\n",
    "---\n",
    "#### **3. İki Matris Arasındaki İç Çarpım**\n",
    "\n",
    "İki matris arasındaki iç çarpım, matrislerin satırlarıyla sütunlarının elemanları arasında yapılan çarpma işlemlerinin toplanmasıyla hesaplanır.\n",
    "\n",
    "---"
   ]
  },
  {
   "cell_type": "code",
   "execution_count": null,
   "metadata": {},
   "outputs": [
    {
     "name": "stdout",
     "output_type": "stream",
     "text": [
      "İki Matris Arasındaki İç Çarpım:\n",
      " [[19 22]\n",
      " [43 50]]\n"
     ]
    }
   ],
   "source": [
    "# İki matris oluşturalım\n",
    "matrix1 = np.array([[1, 2], [3, 4]])\n",
    "matrix2 = np.array([[5, 6], [7, 8]])\n",
    "\n",
    "# İki matris arasındaki iç çarpımı hesaplayalım\n",
    "dot_product_matrices = np.dot(matrix1, matrix2)\n",
    "print(\"İki Matris Arasındaki İç Çarpım:\\n\", dot_product_matrices)"
   ]
  },
  {
   "cell_type": "markdown",
   "metadata": {},
   "source": [
    "\n",
    "---\n",
    "## **2.5.4 İşlem Fonksiyonları (np.sum(), np.prod(), np.mean() vs.)**\n",
    "\n",
    "Numpy'de, çeşitli işlem fonksiyonları mevcuttur. Bu fonksiyonlar, dizilerdeki elemanların toplamını, çarpımını, ortalama değerini ve diğer istatistiksel hesaplamaları gerçekleştirmek için kullanılır. En yaygın kullanılan işlem fonksiyonları arasında `np.sum()`, `np.prod()`, `np.mean()` ve benzerleri bulunur."
   ]
  },
  {
   "cell_type": "markdown",
   "metadata": {},
   "source": [
    "\n",
    "---\n",
    "#### **1. `np.sum()` Fonksiyonu**\n",
    "\n",
    "`np.sum()` fonksiyonu, bir dizinin elemanlarının toplamını hesaplamak için kullanılır.\n",
    "\n",
    "---"
   ]
  },
  {
   "cell_type": "code",
   "execution_count": null,
   "metadata": {},
   "outputs": [],
   "source": [
    "import numpy as np\n",
    "\n",
    "# Bir dizi oluşturalım\n",
    "arr = np.array([1, 2, 3, 4, 5])\n",
    "\n",
    "# Dizinin elemanlarının toplamını hesaplayalım\n",
    "total_sum = np.sum(arr)\n",
    "print(\"Dizinin Toplamı:\", total_sum)  # Çıktı: 15"
   ]
  },
  {
   "cell_type": "markdown",
   "metadata": {},
   "source": [
    "\n",
    "---\n",
    "#### **2. `np.prod()` Fonksiyonu**\n",
    "\n",
    "`np.prod()` fonksiyonu, bir dizinin elemanlarının çarpımını hesaplamak için kullanılır.\n",
    "\n",
    "---"
   ]
  },
  {
   "cell_type": "code",
   "execution_count": null,
   "metadata": {},
   "outputs": [],
   "source": [
    "# Dizinin elemanlarının çarpımını hesaplayalım\n",
    "total_product = np.prod(arr)\n",
    "print(\"Dizinin Çarpımı:\", total_product)  # Çıktı: 120"
   ]
  },
  {
   "cell_type": "markdown",
   "metadata": {},
   "source": [
    "\n",
    "---\n",
    "#### **3. `np.mean()` Fonksiyonu**\n",
    "\n",
    "`np.mean()` fonksiyonu, bir dizinin elemanlarının ortalama değerini hesaplamak için kullanılır.\n",
    "\n",
    "---"
   ]
  },
  {
   "cell_type": "code",
   "execution_count": null,
   "metadata": {},
   "outputs": [],
   "source": [
    "# Dizinin elemanlarının ortalama değerini hesaplayalım\n",
    "mean_value = np.mean(arr)\n",
    "print(\"Dizinin Ortalaması:\", mean_value)  # Çıktı: 3.0"
   ]
  },
  {
   "cell_type": "markdown",
   "metadata": {},
   "source": [
    "\n",
    "---\n",
    "#### **4. Diğer İşlem Fonksiyonları**\n",
    "\n",
    "Numpy'de birçok işlem fonksiyonu bulunur ve bu fonksiyonlar çeşitli istatistiksel hesaplamaları yapmak için kullanılır. Bazı diğer yaygın işlem fonksiyonları şunlardır:\n",
    "- `np.min()`: Dizinin minimum değerini bulur.\n",
    "- `np.max()`: Dizinin maksimum değerini bulur.\n",
    "- `np.std()`: Dizinin standart sapmasını hesaplar.\n",
    "- `np.median()`: Dizinin ortanca değerini bulur.\n",
    "\n",
    "Bu işlem fonksiyonları, Numpy'de veri analizi ve işlemlerinde sıkça kullanılır ve dizilerdeki verilerin çeşitli istatistiksel özelliklerini hesaplamak için önemlidir.\n",
    "\n",
    "---"
   ]
  },
  {
   "cell_type": "markdown",
   "metadata": {},
   "source": [
    "# **3. Lineer Cebir İşlemleri**"
   ]
  },
  {
   "cell_type": "markdown",
   "metadata": {},
   "source": [
    "\n",
    "---\n",
    "## **3.1 Matris Çarpımı**\n",
    "\n",
    "Numpy'de matris çarpımı, iki matris arasındaki çarpma işlemidir. Matris çarpımı, lineer cebirde ve matris işlemlerinde sıkça kullanılan önemli bir işlemdir. Numpy'nin `np.dot()` fonksiyonu veya `@` operatörü ile matris çarpımı gerçekleştirilir.\n",
    "\n",
    "---"
   ]
  },
  {
   "cell_type": "markdown",
   "metadata": {},
   "source": [
    "\n",
    "---\n",
    "### **`@` Operatörü ile Matris Çarpımı**\n",
    "\n",
    "`@` operatörü, Numpy'de matris çarpımı için kullanılabilir. Bu operatör, iki matrisin çarpımını daha okunabilir bir şekilde ifade etmek için kullanılır.\n",
    "\n",
    "---"
   ]
  },
  {
   "cell_type": "code",
   "execution_count": null,
   "metadata": {},
   "outputs": [],
   "source": [
    "# @ operatörü ile matris çarpımını hesaplayalım\n",
    "matrix_product_operator = matrix1 @ matrix2\n",
    "print(\"Matris Çarpımı (@ operatörü ile):\\n\", matrix_product_operator)"
   ]
  },
  {
   "cell_type": "markdown",
   "metadata": {},
   "source": [
    "\n",
    "---\n",
    "## **3.2 Determinant ve Ters Matris Hesaplama**\n",
    "\n",
    "Numpy'de, bir matrisin determinantı ve ters matrisi hesaplanabilir. Determinant, bir kare matrisin bir tür ölçüsüdür ve matrisin nasıl davrandığını anlamak için önemlidir. Ters matris ise, bir matrisin tersine çarpıldığında birim matrisi veren bir matristir."
   ]
  },
  {
   "cell_type": "markdown",
   "metadata": {},
   "source": [
    "\n",
    "---\n",
    "### **3.2.1 Determinant Hesaplama**\n",
    "\n",
    "Numpy'de, bir matrisin determinantını hesaplamak için `np.linalg.det()` fonksiyonu kullanılır.\n",
    "\n",
    "---"
   ]
  },
  {
   "cell_type": "code",
   "execution_count": null,
   "metadata": {},
   "outputs": [
    {
     "name": "stdout",
     "output_type": "stream",
     "text": [
      "Matrisin Determinantı: -2.0000000000000004\n"
     ]
    }
   ],
   "source": [
    "import numpy as np\n",
    "\n",
    "# Bir kare matris oluşturalım\n",
    "matrix = np.array([[1, 2], [3, 4]])\n",
    "\n",
    "# Matrisin determinantını hesaplayalım\n",
    "determinant = np.linalg.det(matrix)\n",
    "print(\"Matrisin Determinantı:\", determinant)"
   ]
  },
  {
   "cell_type": "markdown",
   "metadata": {},
   "source": [
    "\n",
    "---\n",
    "### **3.2.2 Ters Matris Hesaplama**\n",
    "\n",
    "Numpy'de, bir matrisin tersini hesaplamak için `np.linalg.inv()` fonksiyonu kullanılır.\n",
    "\n",
    "---"
   ]
  },
  {
   "cell_type": "code",
   "execution_count": null,
   "metadata": {},
   "outputs": [
    {
     "name": "stdout",
     "output_type": "stream",
     "text": [
      "Matrisin Tersi:\n",
      " [[-2.   1. ]\n",
      " [ 1.5 -0.5]]\n"
     ]
    }
   ],
   "source": [
    "# Matrisin tersini hesaplayalım\n",
    "inverse_matrix = np.linalg.inv(matrix)\n",
    "print(\"Matrisin Tersi:\\n\", inverse_matrix)"
   ]
  },
  {
   "cell_type": "markdown",
   "metadata": {},
   "source": [
    "# **4. Universal Functions (ufuncs):**"
   ]
  },
  {
   "cell_type": "markdown",
   "metadata": {},
   "source": [
    "\n",
    "---\n",
    "## **4.1 ufuncs Nedir?**\n",
    "\n",
    "ufuncs (universal functions), Numpy'de evrensel işlevler olarak bilinen, dizi elemanlarında element-wise (eleman bazlı) işlemler gerçekleştiren işlevlerdir. Bu işlevler, Numpy dizilerindeki her bir elemana aynı işlemi uygulayarak hızlı ve verimli bir şekilde çalışır.\n",
    "\n",
    "ufuncs'ler, matematiksel operasyonlar, trigonometrik fonksiyonlar, mantıksal operasyonlar ve diğer birçok işlem için kullanılabilir."
   ]
  },
  {
   "cell_type": "markdown",
   "metadata": {},
   "source": [
    "\n",
    "---\n",
    "## **4.2 Matematiksel İşlemler**\n",
    "\n",
    "Numpy'deki birçok matematiksel işlem, ufuncs kullanılarak gerçekleştirilir. Örneğin, toplama, çıkarma, çarpma, bölme gibi işlemler ufuncs aracılığıyla eleman bazlı olarak uygulanır.\n",
    "\n",
    "---"
   ]
  },
  {
   "cell_type": "code",
   "execution_count": null,
   "metadata": {},
   "outputs": [],
   "source": [
    "import numpy as np\n",
    "\n",
    "# İki dizi oluşturalım\n",
    "arr1 = np.array([1, 2, 3, 4])\n",
    "arr2 = np.array([5, 6, 7, 8])\n",
    "\n",
    "# Toplama işlemi\n",
    "result_addition = np.add(arr1, arr2)\n",
    "\n",
    "# Çarpma işlemi\n",
    "result_multiplication = np.multiply(arr1, arr2)\n",
    "\n",
    "print(\"Toplama İşlemi Sonucu:\", result_addition)\n",
    "print(\"Çarpma İşlemi Sonucu:\", result_multiplication)"
   ]
  },
  {
   "cell_type": "markdown",
   "metadata": {},
   "source": [
    "\n",
    "---\n",
    "## **4.3 Trigonometrik Fonksiyonlar**\n",
    "\n",
    "ufuncs, trigonometrik fonksiyonlar gibi matematiksel fonksiyonlar için de kullanılır.\n",
    "\n",
    "---"
   ]
  },
  {
   "cell_type": "code",
   "execution_count": null,
   "metadata": {},
   "outputs": [],
   "source": [
    "# Sinüs fonksiyonu\n",
    "result_sin = np.sin(arr1)\n",
    "\n",
    "# Kosinüs fonksiyonu\n",
    "result_cos = np.cos(arr2)\n",
    "\n",
    "print(\"Sinüs Fonksiyonu Sonucu:\", result_sin)\n",
    "print(\"Kosinüs Fonksiyonu Sonucu:\", result_cos)"
   ]
  },
  {
   "cell_type": "markdown",
   "metadata": {},
   "source": [
    "\n",
    "---\n",
    "## **4.4 Mantıksal İşlemler**\n",
    "\n",
    "Mantıksal işlemler de ufuncs aracılığıyla gerçekleştirilir.\n",
    "\n",
    "---"
   ]
  },
  {
   "cell_type": "code",
   "execution_count": null,
   "metadata": {},
   "outputs": [],
   "source": [
    "# Mantıksal ve işlemi\n",
    "result_and = np.logical_and(arr1 > 2, arr2 < 7)\n",
    "\n",
    "# Mantıksal veya işlemi\n",
    "result_or = np.logical_or(arr1 > 2, arr2 < 7)\n",
    "\n",
    "print(\"Mantıksal 've' İşlemi Sonucu:\", result_and)\n",
    "print(\"Mantıksal 'veya' İşlemi Sonucu:\", result_or)"
   ]
  }
 ],
 "metadata": {
  "kernelspec": {
   "display_name": "Python 3",
   "language": "python",
   "name": "python3"
  },
  "language_info": {
   "codemirror_mode": {
    "name": "ipython",
    "version": 3
   },
   "file_extension": ".py",
   "mimetype": "text/x-python",
   "name": "python",
   "nbconvert_exporter": "python",
   "pygments_lexer": "ipython3",
   "version": "3.11.2"
  }
 },
 "nbformat": 4,
 "nbformat_minor": 2
}
