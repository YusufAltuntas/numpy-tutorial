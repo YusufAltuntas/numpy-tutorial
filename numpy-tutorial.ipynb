{
 "cells": [
  {
   "cell_type": "markdown",
   "metadata": {},
   "source": [
    "## **1) Temel Bilgiler:**\n",
    "\n",
    "### **1.1 Numpy Nedir?**\n",
    "   - Numpy'nin temel amacı\n",
    "   - Neden numpy kullanmalıyız?\n",
    "   - Numpy'nin Özellikleri\n",
    "   - Python listeleri ile numpy dizileri arasındaki farklar\n",
    "\n",
    "### **1.2 Numpy Dizileri (Arrays)**\n",
    "   - Numpy Arrayleri Nedir?\n",
    "   - Array Oluşturma\n",
    "      - np.zeros(), np.ones(), np.empty() vs.\n",
    "      - np.arange(), np.linspace()\n",
    "      - Random sayı üretimi: np.random.rand(), np.random.randn(), vs.\n",
    "   - Array Özellikleri: Şekil, Boyut\n",
    "   - Dizilerin Veri Tipleri\n",
    "   - Dizilerin İndekslenmesi ve Dilimlenmesi\n",
    "\n",
    "--- \n",
    "\n",
    "\n",
    "## **2) Temel İşlemler:**\n",
    "\n",
    "### **2.1 Dizi İşlemleri:**\n",
    "   - Dizi elemanlarına erişim\n",
    "   - Aritmetik İşlemler\n",
    "   - Diziler Arası İşlemler\n",
    "   - Rastgele sayılar üretme\n",
    "\n",
    "### **2.2 Array Şekil Değiştirme**\n",
    "   - Dizinin Şeklini Değiştirme\n",
    "   - Dizileri Birleştirme ve Ayırma\n",
    "\n",
    "### **2.3 Matematiksel İşlemler**\n",
    "   - Temel matematiksel işlemler (toplama, çıkarma, çarpma, bölme)\n",
    "   - Matematiksel fonksiyonlar (sin, cos, exp, vs.)\n",
    "   - İşlem hızı ve verimlilik\n",
    "\n",
    "### **2.4 Veri Tipi Dönüşümleri**\n",
    "   - Veri Tipi Dönüşümleri\n",
    "   - Veri Tipi Sınırlamaları ve İşlem Önerileri\n",
    "\n",
    "### **2.5 Fancy Indexing:**\n",
    "   - Maskelerle Indexleme\n",
    "   - Integer Indexleme\n",
    "\n",
    "### **2.6 Array Operasyonları:**\n",
    "   - Broadcasting (Yayılma)\n",
    "      - Numpy'nin Yayılma (broadcasting) Kavramı\n",
    "      - Yayılma Kuralları\n",
    "      - Örneklerle Yayılma Kullanımı\n",
    "   - Dizi Birleştirme (Concatenation)\n",
    "   - Dizi Bölme (Splitting)\n",
    "   - Dizi Yineleme (Repeating)\n",
    "   - İç Çarpım (dot product)\n",
    "   - İşlem fonksiyonları (np.sum(), np.prod(), np.mean() vs.)\n",
    "\n",
    "---\n",
    "\n",
    "## **3. Lineer Cebir İşlemleri**\n",
    "   - Matris çarpımı\n",
    "   - Determinant ve ters matris hesaplama\n",
    "   - Lineer cebir işlemleri uygulama örnekleri\n",
    "\n",
    "## **4) Veri Manipülasyonu:**\n",
    "\n",
    "### **4.1 Dizi Şekillendirme ve Yeniden Düzenleme:**\n",
    "   - Dizi Şeklini Değiştirme\n",
    "   - Dizi Birleştirme ve Yığınlama\n",
    "\n",
    "### **4.2 Dizi Operasyonları:**\n",
    "   - Transpozisyon\n",
    "   - Yeniden Şekillendirme ve Yeniden Düzenleme\n",
    "   - Dizilerin Birleştirilmesi ve Ayırılması\n",
    "\n",
    "---\n",
    "\n",
    "## **5) Daha İleri Konular:**\n",
    "\n",
    "### **5.1 Universal Functions (ufuncs):**\n",
    "   - Neden Ufuncs Kullanılır?\n",
    "   - Ufuncs Nasıl Kullanılır?\n",
    "\n",
    "### **5.2. Numpy İleri Operasyonlar:**\n",
    "   - Dizilerin indekslenmesi ve dilimlenmesi (ilave detaylar)\n",
    "   - Dizilerin sıralanması ve terslenmesi\n",
    "   - Dizi Filtreleme ve Koşullu Mantık\n",
    "   - Dizi Sıralama ve İstatistik\n",
    "\n",
    "### **5.3 Paralel hesaplama ve çok iş parçacıklı (multithreading) programlama**\n",
    "\n",
    "---\n",
    "\n",
    "## **6) Performans Optimizasyonu**\n",
    "   - Numpy'nin performans avantajları\n",
    "   - Vektörize edilmiş kodun önemi\n",
    "   - Performans ipuçları ve hızlı numpy kodlama teknikleri\n",
    "\n",
    "## **7) Dosya İşlemleri**\n",
    "   - Dizi verilerini dosyaya yazma ve okuma\n",
    "   - CSV dosyalarıyla çalışma\n",
    "   - Numpy dizilerini kaydetme ve yükleme\n",
    "\n",
    "## **8) Numpy ile Veri Analizi ve Görselleştirme**\n",
    "   - Veri analizi için numpy kullanımı\n",
    "   - Numpy ile veri görselleştirme\n",
    "\n",
    "## **9) Uygulamalar ve Örnekler**\n",
    "   - Numpy'nin gerçek dünya uygulamaları\n",
    "   - Örnek projeler ve problemler"
   ]
  },
  {
   "cell_type": "markdown",
   "metadata": {},
   "source": [
    "## **1.1 Numpy Nedir?**\n",
    "\n",
    "Numpy, Python programlama dili için temel bir kütüphanedir ve bilimsel hesaplama ve veri işleme için kullanılır. Numpy'nin temel amacı, Python'da veri işlemesi ve hesaplamaları yapmak için hızlı ve etkili bir şekilde çalışabilecek yüksek performanslı çok boyutlu diziler ve matematiksel işlevler sunmaktır.\n",
    "\n",
    "### **Neden Numpy Kullanmalıyız?**\n",
    "\n",
    "Numpy'nin kullanılmasının bazı avantajları şunlardır:\n",
    "- **Hızlı ve Verimli İşlemler:** Numpy, C ve Fortran dilinde yazılmış alt seviye optimizasyonlar kullanır, bu da Python'da yavaş olan bazı işlemleri hızlandırır.\n",
    "- **Diziler Üzerinde Hızlı İşlemler:** Numpy dizileri, Python listelerine göre daha hızlı ve verimli işlemler yapmak için optimize edilmiştir.\n",
    "- **Geniş Fonksiyonellik:** Numpy, matematiksel işlevler, rastgele sayı üretimi, lineer cebir işlemleri gibi birçok faydalı fonksiyon ve işlev içerir.\n",
    "- **Veri Analizi ve Bilimsel Hesaplama:** Numpy, veri analizi, bilimsel hesaplama, simülasyonlar ve modeller gibi çeşitli alanlarda yaygın olarak kullanılır.\n",
    "\n",
    "### **Numpy'nin Özellikleri**\n",
    "\n",
    "Numpy'nin bazı temel özellikleri şunlardır:\n",
    "- **Çok Boyutlu Diziler (Arrays):** Numpy, çok boyutlu dizileri destekler. Bu, tek boyutlu vektörlerden çok boyutlu matrislere kadar geniş bir veri yelpazesini kapsar.\n",
    "- **Matematiksel İşlevler:** Numpy, temel matematiksel işlevler (sin, cos, exp vb.) ve işlemler (toplama, çıkarma, çarpma, bölme vb.) için fonksiyonlar içerir.\n",
    "- **Yüksek Performanslı Hesaplama:** Numpy, vektörize edilmiş işlemler ve alt seviye optimizasyonlar kullanarak yüksek performanslı hesaplamalar sağlar.\n",
    "- **Geniş Kullanım Alanı:** Numpy, veri analizi, bilimsel hesaplama, makine öğrenmesi, görüntü işleme gibi birçok alanda kullanılır.\n",
    "\n",
    "### **Python Listeleri ile Numpy Dizileri Arasındaki Farklar**\n",
    "\n",
    "Numpy dizileri ile Python listeleri arasındaki temel farklar şunlardır:\n",
    "1. **Performans:** Numpy dizileri, Python listelerine göre daha hızlı ve verimli işlemler yapar. Bu, özellikle büyük veri kümeleri üzerinde çalışırken belirgin hale gelir.\n",
    "2. **Veri Tipi ve Boyut Kontrolü:** Numpy dizileri, elemanları aynı veri tipinde tutar ve sabit bir boyuta sahiptir. Bu, veri kümeleri üzerinde homojen işlemler yapmayı kolaylaştırır.\n",
    "3. **Matematiksel İşlemler:** Numpy dizileri, matematiksel işlemler için optimize edilmiş vektörize edilmiş işlemleri destekler. Bu, Python listelerinden daha hızlı ve daha kolay matematiksel işlemler yapmayı sağlar.\n",
    "4. **Bellek Yönetimi:** Numpy dizileri, veriyi daha etkin bir şekilde bellekte depolar ve işler. Bu, bellek kullanımını optimize eder ve verimliliği artırır.\n",
    "\n",
    "\n",
    "| Numpy Dizileri                             | Python Listeleri                           |\n",
    "|--------------------------------------------|--------------------------------------------|\n",
    "| Numpy dizileri aynı türde verileri içerir. | Python listeleri farklı türde verileri içerebilir. |\n",
    "| Numpy dizileri boyutları sabittir.        | Python listeleri dinamik boyutlara sahiptir. |\n",
    "| Numpy dizilerinde vektörleştirilmiş işlemler yapılabilir, bu da performansı artırır. | Python listelerinde döngüler kullanılarak işlemler yapılır, bu performansı düşürebilir. |\n",
    "\n",
    "---"
   ]
  },
  {
   "cell_type": "markdown",
   "metadata": {},
   "source": [
    "## **1.2 Numpy Dizileri (Arrays)**\n",
    "\n",
    "Numpy, Python'da bilimsel hesaplamalar yapmak için kullanılan temel bir kütüphanedir. En önemli özelliklerinden biri, çok boyutlu (çok boyutlu) dizilerle çalışabilme yeteneğidir. Bu çok boyutlu dizilere \"Numpy array\" denir.\n",
    "\n",
    "---\n",
    "\n",
    "### **1.2.1 Numpy Array Nedir?**\n",
    "\n",
    "Numpy array, homojen veri tiplerinden oluşan bir grid yapısıdır. Bir numpy array, aynı türde veriler içerir ve boyutları sabittir. Numpy array'leri, Python listelerine benzerdir ancak daha etkin ve hızlıdır.\n",
    "\n",
    "#### **Numpy Array Özellikleri**\n",
    "\n",
    "1. **Homojen Veri Tipi:**\n",
    "   - Numpy array'leri, aynı türde verileri içerir. Bu, veri işleme ve matematiksel operasyonlar için çok önemlidir çünkü her eleman aynı veri türüne sahiptir.\n",
    "\n",
    "2. **Sabit Boyut:**\n",
    "   - Numpy array'lerinin boyutları oluşturulduktan sonra değiştirilemez. Bu, bellek kullanımını optimize eder ve hızlı işlemler sağlar.\n",
    "\n",
    "3. **Hızlı ve Verimli:**\n",
    "   - Numpy, C altında derlenmiş bir kütüphanedir, bu da işlemlerin hızlı ve verimli bir şekilde yapılmasını sağlar. Büyük veri kümeleriyle çalışırken performans avantajı sağlar.\n",
    "\n",
    "4. **Çok Boyutlu Yetenek:**\n",
    "   - Numpy array'leri, tek boyutlu, iki boyutlu ve daha fazla boyutta olabilir. Bu, matematiksel ve bilimsel hesaplamalarda çok yönlü kullanım sağlar.\n",
    "\n",
    "---\n",
    "\n",
    "#### **Python Listeleri ile Numpy Arrayleri Arasındaki Farklar**\n",
    "\n",
    "Numpy array'leri ve Python listeleri arasındaki ana farklar şunlardır:\n",
    "\n",
    "- **Performans:**\n",
    "   - Numpy array'leri, vektörleştirilmiş operasyonlar ve optimize edilmiş bellek kullanımı sayesinde Python listelerinden daha hızlıdır.\n",
    "   \n",
    "- **Veri Tipi Kontrolü:**\n",
    "   - Numpy array'leri homojen veri tipleri içerirken, Python listeleri heterojen veri tipleri içerebilir.\n",
    "   \n",
    "- **Boyut Değiştirme:**\n",
    "   - Numpy array'lerinin boyutları oluşturulduktan sonra değiştirilemezken, Python listelerinin boyutu dinamik olarak değiştirilebilir.\n",
    "\n",
    "- **Matematiksel İşlemler:**\n",
    "   - Numpy array'leri, matematiksel işlemleri vektörleştirme yeteneği ile desteklerken, Python listeleri bunu doğrudan desteklemez.\n",
    "\n",
    "Bu farklar, Numpy'nin Python listelerine tercih edilmesinin temel nedenlerindendir. Numpy array'leri, bilimsel hesaplamalar, veri analizi ve makine öğrenimi gibi uygulamalarda yaygın olarak kullanılmaktadır."
   ]
  },
  {
   "cell_type": "markdown",
   "metadata": {},
   "source": [
    "---\n",
    "### **1.2.2 Array Oluşturma**\n",
    "\n",
    "Numpy kütüphanesi, çeşitli yöntemlerle array oluşturmayı sağlar. Bu yöntemler, farklı ihtiyaçlara göre farklı türde arrayler oluşturmanıza olanak tanır.\n",
    "\n",
    "#### **1.2.2.1 `np.zeros()`, `np.ones()`, `np.empty()`**\n",
    "\n",
    "Bu fonksiyonlar, belirli bir şekilde sıfırlar, birler veya boş değerler içeren arrayler oluşturur. Temel kullanımı aşağıdaki gibidir:\n",
    "\n",
    "- `np.zeros(shape)`: Belirtilen boyutta sıfırlardan oluşan bir array oluşturur.\n",
    "- `np.ones(shape)`: Belirtilen boyutta birlerden oluşan bir array oluşturur.\n",
    "- `np.empty(shape)`: Belirtilen boyutta boş değerler içeren bir array oluşturur. Bu array'in değerleri, bellekteki mevcut duruma bağlı olarak değişkenlik gösterebilir.\n",
    "---"
   ]
  },
  {
   "cell_type": "code",
   "execution_count": 16,
   "metadata": {},
   "outputs": [
    {
     "name": "stdout",
     "output_type": "stream",
     "text": [
      "[[0. 0. 0.]\n",
      " [0. 0. 0.]] \n",
      "\n",
      "[[1. 1.]\n",
      " [1. 1.]\n",
      " [1. 1.]] \n",
      "\n",
      "[[0.18693    0.47300576]\n",
      " [0.89733236 0.34079692]]\n"
     ]
    }
   ],
   "source": [
    "import numpy as np\n",
    "\n",
    "zeros_array = np.zeros((2, 3))  # 2x3 boyutunda sıfırlardan oluşan array\n",
    "print(zeros_array, \"\\n\")\n",
    "# Çıktı:\n",
    "# [[0. 0. 0.]\n",
    "#  [0. 0. 0.]]\n",
    "\n",
    "ones_array = np.ones((3, 2))  # 3x2 boyutunda birlerden oluşan array\n",
    "print(ones_array,\"\\n\")\n",
    "# Çıktı:\n",
    "# [[1. 1.]\n",
    "#  [1. 1.]\n",
    "#  [1. 1.]]\n",
    "\n",
    "empty_array = np.empty((2, 2))  # 2x2 boyutunda boş değerler içeren array\n",
    "print(empty_array)\n",
    "# Çıktı:\n",
    "# [[4.67296746e-307 1.69121096e-306]\n",
    "#  [8.34441742e-308 1.24611470e-306]]"
   ]
  },
  {
   "cell_type": "markdown",
   "metadata": {},
   "source": [
    "---\n",
    "\n",
    "#### **1.2.2.2 `np.arange()`, `np.linspace()`**\n",
    "\n",
    "Bu fonksiyonlar, belirli bir aralıktaki sayılarla dolu arrayler oluşturur.\n",
    "\n",
    "- `np.arange(start, stop, step)`: Belirli bir aralıktaki sayıları belirtilen adımlarla içeren bir array oluşturur.\n",
    "- `np.linspace(start, stop, num)`: Belirli bir aralıktaki belirli sayıda eşit aralıklı sayıları içeren bir array oluşturur.\n",
    "\n",
    "---"
   ]
  },
  {
   "cell_type": "code",
   "execution_count": 17,
   "metadata": {},
   "outputs": [
    {
     "name": "stdout",
     "output_type": "stream",
     "text": [
      "[0 2 4 6 8] \n",
      "\n",
      "[ 0.   2.5  5.   7.5 10. ]\n"
     ]
    }
   ],
   "source": [
    "import numpy as np\n",
    "\n",
    "range_array = np.arange(0, 10, 2)  # 0'dan 10'a kadar 2'şer artan sayılar\n",
    "print(range_array, \"\\n\")\n",
    "# Çıktı: [0 2 4 6 8]\n",
    "\n",
    "linspace_array = np.linspace(0, 10, 5)  # 0'dan 10'a kadar 5 eşit aralıklı sayılar\n",
    "print(linspace_array)\n",
    "# Çıktı: [ 0.   2.5  5.   7.5 10. ]"
   ]
  },
  {
   "cell_type": "markdown",
   "metadata": {},
   "source": [
    "#### ** 1.2.2.3 Random Sayı Üretimi: `np.random.rand()`, `np.random.randn()`**\n",
    "\n",
    "Bu fonksiyonlar, belirli bir boyutta rastgele sayılar içeren arrayler oluşturur.\n",
    "\n",
    "- `np.random.rand(d0, d1, ..., dn)`: 0 ile 1 arasında uniform dağılımlı rastgele sayılar içeren bir array oluşturur.\n",
    "- `np.random.randn(d0, d1, ..., dn)`: Ortalaması 0 ve standart sapması 1 olan normal dağılımlı rastgele sayılar içeren bir array oluşturur."
   ]
  },
  {
   "cell_type": "code",
   "execution_count": 18,
   "metadata": {},
   "outputs": [
    {
     "name": "stdout",
     "output_type": "stream",
     "text": [
      "[[0.87837508 0.44783032]\n",
      " [0.11237035 0.16647509]] \n",
      "\n",
      "[[0.01635255 0.59053157]\n",
      " [1.2391599  0.39864723]]\n"
     ]
    }
   ],
   "source": [
    "import numpy as np\n",
    "\n",
    "random_array_uniform = np.random.rand(2, 2)  # 2x2 boyutunda uniform dağılımlı rastgele sayılar\n",
    "print(random_array_uniform,\"\\n\")\n",
    "\n",
    "\n",
    "random_array_normal = np.random.randn(2, 2)  # 2x2 boyutunda normal dağılımlı rastgele sayılar\n",
    "print(random_array_normal)"
   ]
  },
  {
   "cell_type": "markdown",
   "metadata": {},
   "source": [
    "### **1.2.3 Array Özellikleri: Şekil, Boyut**\n",
    "\n",
    "Numpy array'lerinin şekli ve boyutu, array'in yapısını ve içerdiği veri miktarını tanımlar. Bu özellikler, array üzerinde işlem yaparken ve verileri manipüle ederken oldukça önemlidir.\n",
    "\n",
    "#### **Array Şekli (Shape)**\n",
    "\n",
    "Bir array'in şekli, her boyuttaki eleman sayısını içeren bir tuple'dır. Örneğin, bir 2x3 boyutundaki array'in şekli `(2, 3)` şeklinde ifade edilir.\n",
    "\n",
    "#### **Array Boyutu (Dimension)**\n",
    "\n",
    "Bir array'in boyutu, içerdiği boyut sayısını ifade eder. Örneğin, 2x3 boyutundaki bir array 2 boyutlu (2D) olarak kabul edilir."
   ]
  },
  {
   "cell_type": "code",
   "execution_count": 19,
   "metadata": {},
   "outputs": [
    {
     "name": "stdout",
     "output_type": "stream",
     "text": [
      "Array Şekli (Shape): (2, 3)\n",
      "Array Boyutu (Dimension): 2\n"
     ]
    }
   ],
   "source": [
    "import numpy as np\n",
    "\n",
    "# 2x3 boyutunda bir array oluşturalım\n",
    "my_array = np.array([[1, 2, 3],\n",
    "                    [4, 5, 6]])\n",
    "\n",
    "print(\"Array Şekli (Shape):\", my_array.shape)  # Çıktı: (2, 3)\n",
    "print(\"Array Boyutu (Dimension):\", my_array.ndim)  # Çıktı: 2"
   ]
  },
  {
   "cell_type": "markdown",
   "metadata": {},
   "source": [
    "#### **Reshaping (Yeniden Şekillendirme)**\n",
    "\n",
    "Numpy, `reshape()` fonksiyonu aracılığıyla mevcut bir array'in şeklini değiştirmenize olanak tanır. Bu işlem, array'in boyutunu değiştirmez, sadece şeklini yeniden düzenler."
   ]
  },
  {
   "cell_type": "code",
   "execution_count": 20,
   "metadata": {},
   "outputs": [
    {
     "name": "stdout",
     "output_type": "stream",
     "text": [
      "Yeniden Şekillendirilmiş Array:\n",
      "[[1 2]\n",
      " [3 4]\n",
      " [5 6]]\n"
     ]
    }
   ],
   "source": [
    "import numpy as np\n",
    "\n",
    "# 2x3 boyutunda bir array oluşturalım\n",
    "my_array = np.array([[1, 2, 3],\n",
    "                    [4, 5, 6]])\n",
    "\n",
    "# Array'in şeklini (2, 3)ten (3, 2)'ye çevirelim\n",
    "reshaped_array = my_array.reshape((3, 2))\n",
    "\n",
    "print(\"Yeniden Şekillendirilmiş Array:\")\n",
    "print(reshaped_array)"
   ]
  },
  {
   "cell_type": "markdown",
   "metadata": {},
   "source": [
    "* Yukarıdaki örnekte, `reshape()` fonksiyonu kullanılarak `my_array` adlı array'in şekli (2, 3)'ten (3, 2)'ye çevrildi."
   ]
  },
  {
   "cell_type": "markdown",
   "metadata": {},
   "source": [
    "#### **Array'in Boyutunu Değiştirme**\n",
    "\n",
    "Numpy, `reshape()` fonksiyonu dışında array'in boyutunu değiştiren `resize()` fonksiyonunu da sağlar. Bu fonksiyon, mevcut array'i değiştirir ve istenen boyuta uyacak şekilde genişletir veya kısaltır."
   ]
  },
  {
   "cell_type": "code",
   "execution_count": 21,
   "metadata": {},
   "outputs": [
    {
     "name": "stdout",
     "output_type": "stream",
     "text": [
      "Yeniden Boyutlandırılmış Array:\n",
      "[[1 2 3 4]\n",
      " [5 6 1 2]\n",
      " [3 4 5 6]]\n"
     ]
    }
   ],
   "source": [
    "import numpy as np\n",
    "\n",
    "# 2x3 boyutunda bir array oluşturalım\n",
    "my_array = np.array([[1, 2, 3],\n",
    "                    [4, 5, 6]])\n",
    "\n",
    "# Array'in boyutunu (3, 4)'e değiştirelim\n",
    "resized_array = np.resize(my_array, (3, 4))\n",
    "\n",
    "print(\"Yeniden Boyutlandırılmış Array:\")\n",
    "print(resized_array)"
   ]
  },
  {
   "cell_type": "markdown",
   "metadata": {},
   "source": [
    "* Yukarıdaki örnekte, `resize()` fonksiyonu kullanılarak `my_array` adlı array'in boyutu (3, 4)'e değiştirildi."
   ]
  },
  {
   "cell_type": "markdown",
   "metadata": {},
   "source": [
    "### **1.2.4 Dizilerin Veri Tipleri**\n",
    "\n",
    "Numpy dizileri, homojen veri tipleriyle (aynı tipte verileri içerir) çalışır. Bu, her bir öğenin aynı veri tipine sahip olması gerektiği anlamına gelir. Numpy, farklı türlerde veri tiplerini destekler ve her bir veri tipi farklı boyut ve işlemlere izin verir.\n",
    "\n",
    "#### **Numpy Veri Tipleri:**\n",
    "\n",
    "1. **int**: Tam sayılar.\n",
    "2. **float**: Ondalık sayılar.\n",
    "3. **complex**: Karmaşık sayılar.\n",
    "4. **bool**: Mantıksal (Boolean) değerler.\n",
    "5. **string**: Karakter dizileri.\n",
    "6. **object**: Python nesneleri için genel veri tipi.\n",
    "7. **datetime**: Tarih ve saat veri tipleri.\n",
    "\n",
    "#### **Veri Tipi Belirtme**\n",
    "\n",
    "Numpy, bir dizi oluştururken veya bir diziye dönüştürürken veri tipini belirlemenize izin verir. Bu, bellek kullanımını optimize etmenize ve beklenmeyen sonuçlardan kaçınmanıza olanak tanır."
   ]
  },
  {
   "cell_type": "code",
   "execution_count": 22,
   "metadata": {},
   "outputs": [
    {
     "name": "stdout",
     "output_type": "stream",
     "text": [
      "Float tipinde dizi: [1. 2. 3.]\n",
      "Dönüştürülen dizi: [1. 2. 3.]\n"
     ]
    }
   ],
   "source": [
    "import numpy as np\n",
    "\n",
    "# Diziyi oluştururken veri tipini belirleme\n",
    "my_array = np.array([1, 2, 3], dtype=float)\n",
    "print(\"Float tipinde dizi:\", my_array)\n",
    "\n",
    "# Dönüştürme işlemi sırasında veri tipini belirleme\n",
    "converted_array = np.array([1, 2, 3], dtype=float)\n",
    "print(\"Dönüştürülen dizi:\", converted_array)"
   ]
  },
  {
   "cell_type": "markdown",
   "metadata": {},
   "source": []
  },
  {
   "cell_type": "markdown",
   "metadata": {},
   "source": [
    "### **1.2.5 Dizilerin İndekslenmesi ve Dilimlenmesi**\n",
    "\n",
    "Numpy dizileri, Python listelerine benzer şekilde indekslenir ve dilimlenir. Bu işlemler, belirli bir elemana erişmek veya belirli bir alt küme oluşturmak için kullanılır. Numpy, çok boyutlu dizilerle çalışırken bu işlemleri daha da güçlendirir.\n",
    "\n",
    "#### **1.2.5.1 İndeksleme**\n",
    "\n",
    "Numpy dizileri, 0'dan başlayarak indekslenir. Bir dizinin belirli bir elemanına erişmek için indeks numarasını kullanırız."
   ]
  },
  {
   "cell_type": "code",
   "execution_count": 23,
   "metadata": {},
   "outputs": [
    {
     "name": "stdout",
     "output_type": "stream",
     "text": [
      "1\n",
      "3\n"
     ]
    }
   ],
   "source": [
    "import numpy as np\n",
    "\n",
    "# 1D dizinin oluşturulması\n",
    "arr = np.array([1, 2, 3, 4, 5])\n",
    "\n",
    "# İndeksleme\n",
    "print(arr[0])  # Çıktı: 1\n",
    "print(arr[2])  # Çıktı: 3"
   ]
  },
  {
   "cell_type": "markdown",
   "metadata": {},
   "source": [
    "#### **1.2.5.2 Dilimleme (Slicing)**\n",
    "\n",
    "Dilimleme, bir dizinin belirli bir alt kümesini seçmek için kullanılır. Numpy dizilerinde dilimleme, Python listelerinden çok benzer şekilde çalışır. `[start:stop:step]` formülü kullanılır. Herhangi bir parametre belirtilmezse, varsayılan değerler kullanılır (başlangıç: 0, durdurma: son, adım: 1)."
   ]
  },
  {
   "cell_type": "code",
   "execution_count": 24,
   "metadata": {},
   "outputs": [
    {
     "name": "stdout",
     "output_type": "stream",
     "text": [
      "[2 3 4]\n",
      "[1 2 3]\n",
      "[1 3 5]\n"
     ]
    }
   ],
   "source": [
    "import numpy as np\n",
    "\n",
    "# 1D dizinin oluşturulması\n",
    "arr = np.array([1, 2, 3, 4, 5])\n",
    "\n",
    "# Dilimleme\n",
    "print(arr[1:4])  # Çıktı: [2 3 4]\n",
    "print(arr[:3])   # Çıktı: [1 2 3]\n",
    "print(arr[::2])  # Çıktı: [1 3 5]"
   ]
  },
  {
   "cell_type": "markdown",
   "metadata": {},
   "source": [
    "#### **1.2.5.3 Çok Boyutlu Dizilerde İndeksleme ve Dilimleme**\n",
    "\n",
    "Çok boyutlu dizilerde, her boyuta ait bir indeks veya dilimleme kullanabiliriz. Her boyut için indeksleme ve dilimleme işlemleri virgülle ayrılır."
   ]
  },
  {
   "cell_type": "code",
   "execution_count": 25,
   "metadata": {},
   "outputs": [
    {
     "name": "stdout",
     "output_type": "stream",
     "text": [
      "1\n",
      "6\n",
      "[[2 3]\n",
      " [5 6]]\n"
     ]
    }
   ],
   "source": [
    "import numpy as np\n",
    "\n",
    "# 2D dizinin oluşturulması\n",
    "arr = np.array([[1, 2, 3],\n",
    "                [4, 5, 6],\n",
    "                [7, 8, 9]])\n",
    "\n",
    "# İndeksleme ve Dilimleme\n",
    "print(arr[0, 0])     # Çıktı: 1 (1. satırın 1. sütunu)\n",
    "print(arr[1, 2])     # Çıktı: 6 (2. satırın 3. sütunu)\n",
    "print(arr[:2, 1:])   # Çıktı: [[2 3]\n",
    "                            #   [5 6]]"
   ]
  },
  {
   "cell_type": "code",
   "execution_count": null,
   "metadata": {},
   "outputs": [],
   "source": []
  }
 ],
 "metadata": {
  "kernelspec": {
   "display_name": "Python 3",
   "language": "python",
   "name": "python3"
  },
  "language_info": {
   "codemirror_mode": {
    "name": "ipython",
    "version": 3
   },
   "file_extension": ".py",
   "mimetype": "text/x-python",
   "name": "python",
   "nbconvert_exporter": "python",
   "pygments_lexer": "ipython3",
   "version": "3.11.2"
  }
 },
 "nbformat": 4,
 "nbformat_minor": 2
}
